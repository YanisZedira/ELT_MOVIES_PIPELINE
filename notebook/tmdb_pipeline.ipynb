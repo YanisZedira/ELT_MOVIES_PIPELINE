{
  "cells": [
    {
      "cell_type": "code",
      "execution_count": 38,
      "metadata": {
        "colab": {
          "base_uri": "https://localhost:8080/"
        },
        "executionInfo": {
          "elapsed": 18530,
          "status": "ok",
          "timestamp": 1747732671060,
          "user": {
            "displayName": "",
            "userId": ""
          },
          "user_tz": -120
        },
        "id": "4MeqGYonwP04",
        "outputId": "8eb60d2e-cac3-4024-f282-5031a830812d"
      },
      "outputs": [
        {
          "name": "stdout",
          "output_type": "stream",
          "text": [
            "🎬✅ Pipeline ELT complet avec schéma en étoile terminé sans doublons\n"
          ]
        }
      ],
      "source": [
        "import os\n",
        "import requests\n",
        "import pandas as pd\n",
        "from google.cloud import bigquery, storage\n",
        "\n",
        "# 🔑 Variables de config GCP et TMDB\n",
        "bucket_name = \"tmdb-data-bucket\"\n",
        "bq_project = \"tmdb-elt-project-460312\"\n",
        "dataset_raw = \"tmdb_raw\"\n",
        "dataset_clean = \"tmdb_clean\"\n",
        "table_raw = f\"{bq_project}.{dataset_raw}.movies\"\n",
        "table_facts = f\"{bq_project}.{dataset_clean}.movies\"\n",
        "table_genres = f\"{bq_project}.{dataset_clean}.dim_genres\"\n",
        "table_relation = f\"{bq_project}.{dataset_clean}.movie_genres\"\n",
        "gcs_movies = f\"gs://{bucket_name}/movies_raw.csv\"\n",
        "gcs_genres = f\"gs://{bucket_name}/dim_genres.csv\"\n",
        "gcs_movie_genres = f\"gs://{bucket_name}/movie_genres.csv\"\n",
        "\n",
        "# 🔧 Clients GCP\n",
        "client = bigquery.Client()\n",
        "storage_client = storage.Client()\n",
        "\n",
        "# 📁 Créer le bucket si inexistant\n",
        "bucket = storage_client.bucket(bucket_name)\n",
        "if not bucket.exists():\n",
        "    storage_client.create_bucket(bucket, location=\"EU\")\n",
        "\n",
        "# 📂 Créer les datasets si inexistants\n",
        "for dataset in [dataset_raw, dataset_clean]:\n",
        "    dataset_id = f\"{bq_project}.{dataset}\"\n",
        "    try:\n",
        "        client.get_dataset(dataset_id)\n",
        "    except:\n",
        "        ds = bigquery.Dataset(dataset_id)\n",
        "        ds.location = \"EU\"\n",
        "        client.create_dataset(ds)\n",
        "\n",
        "# 1️⃣ EXTRACT — Films populaires (5 pages)\n",
        "all_movies = []\n",
        "for page in range(1, 6):\n",
        "    url = f\"https://api.themoviedb.org/3/movie/popular?api_key={os.environ.get('TMDB_API_KEY')}&language=en-US&page={page}\"\n",
        "    res = requests.get(url)\n",
        "    if res.status_code == 200:\n",
        "        all_movies.extend(res.json()[\"results\"])\n",
        "df = pd.DataFrame(all_movies)\n",
        "df.to_csv(\"/tmp/movies_raw.csv\", index=False)\n",
        "os.system(f\"gsutil cp /tmp/movies_raw.csv {gcs_movies}\")\n",
        "\n",
        "# 2️⃣ LOAD — Nettoyer puis charger dans table RAW\n",
        "job_config = bigquery.LoadJobConfig(\n",
        "    source_format=bigquery.SourceFormat.CSV,\n",
        "    skip_leading_rows=1,\n",
        "    autodetect=True\n",
        ")\n",
        "client.query(f\"DELETE FROM `{table_raw}` WHERE TRUE\").result()\n",
        "client.load_table_from_uri(gcs_movies, table_raw, job_config=job_config).result()\n",
        "\n",
        "# 3️⃣ TRANSFORM — Table de faits nettoyée et enrichie\n",
        "query_facts = f\"\"\"\n",
        "CREATE OR REPLACE TABLE `{table_facts}` AS\n",
        "SELECT\n",
        "  id,\n",
        "  title,\n",
        "  release_date,\n",
        "  vote_average,\n",
        "  vote_count,\n",
        "  popularity,\n",
        "  genre_ids,\n",
        "  original_language,\n",
        "  CONCAT('https://image.tmdb.org/t/p/w780', backdrop_path) AS backdrop_path,\n",
        "  CONCAT('https://image.tmdb.org/t/p/w500', poster_path) AS poster_path,\n",
        "  overview\n",
        "FROM (\n",
        "  SELECT *,\n",
        "         ROW_NUMBER() OVER (PARTITION BY id ORDER BY popularity DESC) AS rn\n",
        "  FROM `{table_raw}`\n",
        ")\n",
        "WHERE rn = 1 AND release_date IS NOT NULL\n",
        "\"\"\"\n",
        "client.query(query_facts).result()\n",
        "\n",
        "# 4️⃣ DIM_GENRES — Appel API pour récupérer tous les genres\n",
        "genre_url = f\"https://api.themoviedb.org/3/genre/movie/list?api_key={os.environ.get('TMDB_API_KEY')}&language=en-US\"\n",
        "res = requests.get(genre_url)\n",
        "df_genres = pd.DataFrame(res.json()[\"genres\"])\n",
        "df_genres.columns = [\"genre_id\", \"genre_name\"]\n",
        "df_genres.to_csv(\"/tmp/dim_genres.csv\", index=False)\n",
        "os.system(f\"gsutil cp /tmp/dim_genres.csv {gcs_genres}\")\n",
        "client.load_table_from_uri(gcs_genres, table_genres, job_config=job_config).result()\n",
        "\n",
        "# 5️⃣ RELATION — Table n-n movie_id <-> genre_id\n",
        "movie_genres = df[['id', 'genre_ids']].explode('genre_ids').dropna()\n",
        "movie_genres.columns = ['movie_id', 'genre_id']\n",
        "movie_genres['genre_id'] = movie_genres['genre_id'].astype(int)\n",
        "movie_genres.to_csv(\"/tmp/movie_genres.csv\", index=False)\n",
        "os.system(f\"gsutil cp /tmp/movie_genres.csv {gcs_movie_genres}\")\n",
        "client.load_table_from_uri(gcs_movie_genres, table_relation, job_config=job_config).result()\n",
        "\n",
        "print(\"🎬✅ Pipeline ELT complet avec schéma en étoile terminé sans doublons\")\n"
      ]
    },
    {
      "cell_type": "code",
      "execution_count": 39,
      "metadata": {
        "executionInfo": {
          "elapsed": 9,
          "status": "ok",
          "timestamp": 1747732671060,
          "user": {
            "displayName": "",
            "userId": ""
          },
          "user_tz": -120
        },
        "id": "8P2e7VCFwY6X"
      },
      "outputs": [],
      "source": [
        "import os\n",
        "\n",
        "# Crée le dossier source si nécessaire\n",
        "os.makedirs(\"/tmp/function_src\", exist_ok=True)\n",
        "\n",
        "# 📄 1. Création du fichier main.py\n",
        "main_py_code = '''\n",
        "import os\n",
        "import requests\n",
        "import pandas as pd\n",
        "from google.cloud import bigquery, storage\n",
        "\n",
        "def main(request):\n",
        "    bucket_name = \"tmdb-data-bucket\"\n",
        "    bq_project = \"tmdb-elt-project-460312\"\n",
        "    dataset_raw = \"tmdb_raw\"\n",
        "    dataset_clean = \"tmdb_clean\"\n",
        "    table_raw = f\"{bq_project}.{dataset_raw}.movies\"\n",
        "    table_facts = f\"{bq_project}.{dataset_clean}.movies\"\n",
        "    table_genres = f\"{bq_project}.{dataset_clean}.dim_genres\"\n",
        "    table_relation = f\"{bq_project}.{dataset_clean}.movie_genres\"\n",
        "    gcs_movies = f\"gs://{bucket_name}/movies_raw.csv\"\n",
        "    gcs_genres = f\"gs://{bucket_name}/dim_genres.csv\"\n",
        "    gcs_movie_genres = f\"gs://{bucket_name}/movie_genres.csv\"\n",
        "\n",
        "    client = bigquery.Client()\n",
        "    storage_client = storage.Client()\n",
        "\n",
        "    bucket = storage_client.bucket(bucket_name)\n",
        "    if not bucket.exists():\n",
        "        storage_client.create_bucket(bucket, location=\"EU\")\n",
        "\n",
        "    for dataset in [dataset_raw, dataset_clean]:\n",
        "        dataset_id = f\"{bq_project}.{dataset}\"\n",
        "        try:\n",
        "            client.get_dataset(dataset_id)\n",
        "        except:\n",
        "            ds = bigquery.Dataset(dataset_id)\n",
        "            ds.location = \"EU\"\n",
        "            client.create_dataset(ds)\n",
        "\n",
        "    all_movies = []\n",
        "    for page in range(1, 6):\n",
        "        url = f\"https://api.themoviedb.org/3/discover/movie?api_key={os.environ.get('TMDB_API_KEY')}&language=en-US&page={page}\"\n",
        "        res = requests.get(url)\n",
        "        if res.status_code == 200:\n",
        "            all_movies.extend(res.json()[\"results\"])\n",
        "    df = pd.DataFrame(all_movies)\n",
        "    df.to_csv(\"/tmp/movies_raw.csv\", index=False)\n",
        "    os.system(f\"gsutil cp /tmp/movies_raw.csv {gcs_movies}\")\n",
        "\n",
        "    job_config = bigquery.LoadJobConfig(\n",
        "        source_format=bigquery.SourceFormat.CSV,\n",
        "        skip_leading_rows=1,\n",
        "        autodetect=True\n",
        "    )\n",
        "    client.query(f\"DELETE FROM `{table_raw}` WHERE TRUE\").result()\n",
        "    client.load_table_from_uri(gcs_movies, table_raw, job_config=job_config).result()\n",
        "\n",
        "    query_facts = f\\\"\\\"\\\"\n",
        "    CREATE OR REPLACE TABLE `{table_facts}` AS\n",
        "    SELECT\n",
        "      id,\n",
        "      title,\n",
        "      release_date,\n",
        "      vote_average,\n",
        "      vote_count,\n",
        "      popularity,\n",
        "      genre_ids,\n",
        "      original_language,\n",
        "      CONCAT('https://image.tmdb.org/t/p/w780', backdrop_path) AS backdrop_path,\n",
        "      CONCAT('https://image.tmdb.org/t/p/w500', poster_path) AS poster_path,\n",
        "      overview\n",
        "    FROM (\n",
        "      SELECT *,\n",
        "             ROW_NUMBER() OVER (PARTITION BY id ORDER BY popularity DESC) AS rn\n",
        "      FROM `{table_raw}`\n",
        "    )\n",
        "    WHERE rn = 1 AND release_date IS NOT NULL\n",
        "    \\\"\\\"\\\"\n",
        "    client.query(query_facts).result()\n",
        "\n",
        "    genre_url = f\"https://api.themoviedb.org/3/genre/movie/list?api_key={os.environ.get('TMDB_API_KEY')}&language=en-US\"\n",
        "    res = requests.get(genre_url)\n",
        "    df_genres = pd.DataFrame(res.json()[\"genres\"])\n",
        "    df_genres.columns = [\"genre_id\", \"genre_name\"]\n",
        "    df_genres.to_csv(\"/tmp/dim_genres.csv\", index=False)\n",
        "    os.system(f\"gsutil cp /tmp/dim_genres.csv {gcs_genres}\")\n",
        "    client.load_table_from_uri(gcs_genres, table_genres, job_config=job_config).result()\n",
        "\n",
        "    movie_genres = df[['id', 'genre_ids']].explode('genre_ids').dropna()\n",
        "    movie_genres.columns = ['movie_id', 'genre_id']\n",
        "    movie_genres['genre_id'] = movie_genres['genre_id'].astype(int)\n",
        "    movie_genres.to_csv(\"/tmp/movie_genres.csv\", index=False)\n",
        "    os.system(f\"gsutil cp /tmp/movie_genres.csv {gcs_movie_genres}\")\n",
        "    client.load_table_from_uri(gcs_movie_genres, table_relation, job_config=job_config).result()\n",
        "\n",
        "    return \"✅ Pipeline exécuté avec succès\"\n",
        "'''\n",
        "\n",
        "with open(\"/tmp/function_src/main.py\", \"w\") as f:\n",
        "    f.write(main_py_code)\n",
        "\n",
        "# 📄 2. Création du fichier requirements.txt\n",
        "with open(\"/tmp/function_src/requirements.txt\", \"w\") as f:\n",
        "    f.write(\"pandas\\nrequests\\ngoogle-cloud-bigquery\\ngoogle-cloud-storage\\n\")\n"
      ]
    },
    {
      "cell_type": "code",
      "execution_count": 40,
      "metadata": {
        "colab": {
          "base_uri": "https://localhost:8080/"
        },
        "executionInfo": {
          "elapsed": 59441,
          "status": "ok",
          "timestamp": 1747732730495,
          "user": {
            "displayName": "",
            "userId": ""
          },
          "user_tz": -120
        },
        "id": "Wv0YYanBzRUz",
        "outputId": "f3eaf72c-7943-4af0-99d2-e27795c7a3c0"
      },
      "outputs": [
        {
          "name": "stdout",
          "output_type": "stream",
          "text": [
            "  [INFO] A new revision will be deployed serving with 100% traffic.\n",
            "You can view your function in the Cloud Console here: https://console.cloud.google.com/functions/details/europe-west1/orchestrate_pipeline?project=tmdb-elt-project-460312\n",
            "\n",
            "buildConfig:\n",
            "  automaticUpdatePolicy: {}\n",
            "  build: projects/1092783899634/locations/europe-west1/builds/b653d0bf-a762-42f8-8fcf-3df64588a4b8\n",
            "  dockerRegistry: ARTIFACT_REGISTRY\n",
            "  dockerRepository: projects/tmdb-elt-project-460312/locations/europe-west1/repositories/gcf-artifacts\n",
            "  entryPoint: main\n",
            "  runtime: python310\n",
            "  serviceAccount: projects/tmdb-elt-project-460312/serviceAccounts/1092783899634-compute@developer.gserviceaccount.com\n",
            "  source:\n",
            "    storageSource:\n",
            "      bucket: gcf-v2-sources-1092783899634-europe-west1\n",
            "      generation: '1747732678536892'\n",
            "      object: orchestrate_pipeline/function-source.zip\n",
            "  sourceProvenance:\n",
            "    resolvedStorageSource:\n",
            "      bucket: gcf-v2-sources-1092783899634-europe-west1\n",
            "      generation: '1747732678536892'\n",
            "      object: orchestrate_pipeline/function-source.zip\n",
            "createTime: '2025-05-19T13:35:54.099800696Z'\n",
            "environment: GEN_2\n",
            "labels:\n",
            "  deployment-tool: cli-gcloud\n",
            "name: projects/tmdb-elt-project-460312/locations/europe-west1/functions/orchestrate_pipeline\n",
            "satisfiesPzi: true\n",
            "serviceConfig:\n",
            "  allTrafficOnLatestRevision: true\n",
            "  availableCpu: '0.1666'\n",
            "  availableMemory: 256M\n",
            "  environmentVariables:\n",
            "    LOG_EXECUTION_ID: 'true'\n",
            "    TMDB_API_KEY: 3cfa35042af236cd2d3d3ad121a6e865\n",
            "  ingressSettings: ALLOW_ALL\n",
            "  maxInstanceCount: 100\n",
            "  maxInstanceRequestConcurrency: 1\n",
            "  revision: orchestrate-pipeline-00004-rov\n",
            "  service: projects/tmdb-elt-project-460312/locations/europe-west1/services/orchestrate-pipeline\n",
            "  serviceAccountEmail: 1092783899634-compute@developer.gserviceaccount.com\n",
            "  timeoutSeconds: 60\n",
            "  uri: https://orchestrate-pipeline-ntqa4lyvma-ew.a.run.app\n",
            "state: ACTIVE\n",
            "updateTime: '2025-05-20T09:18:48.183386390Z'\n",
            "url: https://europe-west1-tmdb-elt-project-460312.cloudfunctions.net/orchestrate_pipeline\n"
          ]
        }
      ],
      "source": [
        "api_key = os.environ[\"TMDB_API_KEY\"]\n",
        "\n",
        "!gcloud functions deploy orchestrate_pipeline \\\n",
        "  --entry-point main \\\n",
        "  --runtime python310 \\\n",
        "  --trigger-http \\\n",
        "  --allow-unauthenticated \\\n",
        "  --source=/tmp/function_src \\\n",
        "  --region=europe-west1 \\\n",
        "  --project=tmdb-elt-project-460312 \\\n",
        "  --set-env-vars TMDB_API_KEY={api_key}\n"
      ]
    },
    {
      "cell_type": "code",
      "execution_count": 41,
      "metadata": {
        "executionInfo": {
          "elapsed": 389,
          "status": "ok",
          "timestamp": 1747732730857,
          "user": {
            "displayName": "",
            "userId": ""
          },
          "user_tz": -120
        },
        "id": "qPOW0oPU7t30"
      },
      "outputs": [],
      "source": [
        "!mkdir -p tmdb-elt-pipeline/notebook\n",
        "!mkdir -p tmdb-elt-pipeline/function_src\n",
        "!mkdir -p tmdb-elt-pipeline/docs\n"
      ]
    },
    {
      "cell_type": "code",
      "execution_count": 42,
      "metadata": {
        "colab": {
          "base_uri": "https://localhost:8080/",
          "height": 1000
        },
        "executionInfo": {
          "elapsed": 109326,
          "status": "ok",
          "timestamp": 1747732840163,
          "user": {
            "displayName": "",
            "userId": ""
          },
          "user_tz": -120
        },
        "id": "RULrl53_78t3",
        "outputId": "60d345ab-7218-44d5-96a1-114a546e57ed"
      },
      "outputs": [
        {
          "data": {
            "text/html": [
              "\n",
              "     <input type=\"file\" id=\"files-c9d03e23-c7fa-421b-abeb-7b5178c13570\" name=\"files[]\" multiple disabled\n",
              "        style=\"border:none\" />\n",
              "     <output id=\"result-c9d03e23-c7fa-421b-abeb-7b5178c13570\">\n",
              "      Upload widget is only available when the cell has been executed in the\n",
              "      current browser session. Please rerun this cell to enable.\n",
              "      </output>\n",
              "      <script>// Copyright 2017 Google LLC\n",
              "//\n",
              "// Licensed under the Apache License, Version 2.0 (the \"License\");\n",
              "// you may not use this file except in compliance with the License.\n",
              "// You may obtain a copy of the License at\n",
              "//\n",
              "//      http://www.apache.org/licenses/LICENSE-2.0\n",
              "//\n",
              "// Unless required by applicable law or agreed to in writing, software\n",
              "// distributed under the License is distributed on an \"AS IS\" BASIS,\n",
              "// WITHOUT WARRANTIES OR CONDITIONS OF ANY KIND, either express or implied.\n",
              "// See the License for the specific language governing permissions and\n",
              "// limitations under the License.\n",
              "\n",
              "/**\n",
              " * @fileoverview Helpers for google.colab Python module.\n",
              " */\n",
              "(function(scope) {\n",
              "function span(text, styleAttributes = {}) {\n",
              "  const element = document.createElement('span');\n",
              "  element.textContent = text;\n",
              "  for (const key of Object.keys(styleAttributes)) {\n",
              "    element.style[key] = styleAttributes[key];\n",
              "  }\n",
              "  return element;\n",
              "}\n",
              "\n",
              "// Max number of bytes which will be uploaded at a time.\n",
              "const MAX_PAYLOAD_SIZE = 100 * 1024;\n",
              "\n",
              "function _uploadFiles(inputId, outputId) {\n",
              "  const steps = uploadFilesStep(inputId, outputId);\n",
              "  const outputElement = document.getElementById(outputId);\n",
              "  // Cache steps on the outputElement to make it available for the next call\n",
              "  // to uploadFilesContinue from Python.\n",
              "  outputElement.steps = steps;\n",
              "\n",
              "  return _uploadFilesContinue(outputId);\n",
              "}\n",
              "\n",
              "// This is roughly an async generator (not supported in the browser yet),\n",
              "// where there are multiple asynchronous steps and the Python side is going\n",
              "// to poll for completion of each step.\n",
              "// This uses a Promise to block the python side on completion of each step,\n",
              "// then passes the result of the previous step as the input to the next step.\n",
              "function _uploadFilesContinue(outputId) {\n",
              "  const outputElement = document.getElementById(outputId);\n",
              "  const steps = outputElement.steps;\n",
              "\n",
              "  const next = steps.next(outputElement.lastPromiseValue);\n",
              "  return Promise.resolve(next.value.promise).then((value) => {\n",
              "    // Cache the last promise value to make it available to the next\n",
              "    // step of the generator.\n",
              "    outputElement.lastPromiseValue = value;\n",
              "    return next.value.response;\n",
              "  });\n",
              "}\n",
              "\n",
              "/**\n",
              " * Generator function which is called between each async step of the upload\n",
              " * process.\n",
              " * @param {string} inputId Element ID of the input file picker element.\n",
              " * @param {string} outputId Element ID of the output display.\n",
              " * @return {!Iterable<!Object>} Iterable of next steps.\n",
              " */\n",
              "function* uploadFilesStep(inputId, outputId) {\n",
              "  const inputElement = document.getElementById(inputId);\n",
              "  inputElement.disabled = false;\n",
              "\n",
              "  const outputElement = document.getElementById(outputId);\n",
              "  outputElement.innerHTML = '';\n",
              "\n",
              "  const pickedPromise = new Promise((resolve) => {\n",
              "    inputElement.addEventListener('change', (e) => {\n",
              "      resolve(e.target.files);\n",
              "    });\n",
              "  });\n",
              "\n",
              "  const cancel = document.createElement('button');\n",
              "  inputElement.parentElement.appendChild(cancel);\n",
              "  cancel.textContent = 'Cancel upload';\n",
              "  const cancelPromise = new Promise((resolve) => {\n",
              "    cancel.onclick = () => {\n",
              "      resolve(null);\n",
              "    };\n",
              "  });\n",
              "\n",
              "  // Wait for the user to pick the files.\n",
              "  const files = yield {\n",
              "    promise: Promise.race([pickedPromise, cancelPromise]),\n",
              "    response: {\n",
              "      action: 'starting',\n",
              "    }\n",
              "  };\n",
              "\n",
              "  cancel.remove();\n",
              "\n",
              "  // Disable the input element since further picks are not allowed.\n",
              "  inputElement.disabled = true;\n",
              "\n",
              "  if (!files) {\n",
              "    return {\n",
              "      response: {\n",
              "        action: 'complete',\n",
              "      }\n",
              "    };\n",
              "  }\n",
              "\n",
              "  for (const file of files) {\n",
              "    const li = document.createElement('li');\n",
              "    li.append(span(file.name, {fontWeight: 'bold'}));\n",
              "    li.append(span(\n",
              "        `(${file.type || 'n/a'}) - ${file.size} bytes, ` +\n",
              "        `last modified: ${\n",
              "            file.lastModifiedDate ? file.lastModifiedDate.toLocaleDateString() :\n",
              "                                    'n/a'} - `));\n",
              "    const percent = span('0% done');\n",
              "    li.appendChild(percent);\n",
              "\n",
              "    outputElement.appendChild(li);\n",
              "\n",
              "    const fileDataPromise = new Promise((resolve) => {\n",
              "      const reader = new FileReader();\n",
              "      reader.onload = (e) => {\n",
              "        resolve(e.target.result);\n",
              "      };\n",
              "      reader.readAsArrayBuffer(file);\n",
              "    });\n",
              "    // Wait for the data to be ready.\n",
              "    let fileData = yield {\n",
              "      promise: fileDataPromise,\n",
              "      response: {\n",
              "        action: 'continue',\n",
              "      }\n",
              "    };\n",
              "\n",
              "    // Use a chunked sending to avoid message size limits. See b/62115660.\n",
              "    let position = 0;\n",
              "    do {\n",
              "      const length = Math.min(fileData.byteLength - position, MAX_PAYLOAD_SIZE);\n",
              "      const chunk = new Uint8Array(fileData, position, length);\n",
              "      position += length;\n",
              "\n",
              "      const base64 = btoa(String.fromCharCode.apply(null, chunk));\n",
              "      yield {\n",
              "        response: {\n",
              "          action: 'append',\n",
              "          file: file.name,\n",
              "          data: base64,\n",
              "        },\n",
              "      };\n",
              "\n",
              "      let percentDone = fileData.byteLength === 0 ?\n",
              "          100 :\n",
              "          Math.round((position / fileData.byteLength) * 100);\n",
              "      percent.textContent = `${percentDone}% done`;\n",
              "\n",
              "    } while (position < fileData.byteLength);\n",
              "  }\n",
              "\n",
              "  // All done.\n",
              "  yield {\n",
              "    response: {\n",
              "      action: 'complete',\n",
              "    }\n",
              "  };\n",
              "}\n",
              "\n",
              "scope.google = scope.google || {};\n",
              "scope.google.colab = scope.google.colab || {};\n",
              "scope.google.colab._files = {\n",
              "  _uploadFiles,\n",
              "  _uploadFilesContinue,\n",
              "};\n",
              "})(self);\n",
              "</script> "
            ],
            "text/plain": [
              "<IPython.core.display.HTML object>"
            ]
          },
          "metadata": {},
          "output_type": "display_data"
        },
        {
          "name": "stdout",
          "output_type": "stream",
          "text": [
            "Saving tmdb_pipeline.ipynb to tmdb_pipeline.ipynb\n"
          ]
        },
        {
          "data": {
            "text/plain": [
              "{'tmdb_pipeline.ipynb': b'{\\n  \"nbformat\": 4,\\n  \"nbformat_minor\": 0,\\n  \"metadata\": {\\n    \"colab\": {\\n      \"cell_execution_strategy\": \"setup\",\\n      \"provenance\": [],\\n      \"name\": \"tmdb_pipeline\"\\n    },\\n    \"kernelspec\": {\\n      \"name\": \"python3\",\\n      \"display_name\": \"Python 3\"\\n    },\\n    \"language_info\": {\\n      \"name\": \"python\"\\n    }\\n  },\\n  \"cells\": [\\n    {\\n      \"cell_type\": \"code\",\\n      \"source\": [\\n        \"!echo \\\\\"TMDB_API_KEY=3cfa35042af236cd2d3d3ad121a6e865\\\\\" > .env\"\\n      ],\\n      \"metadata\": {\\n        \"id\": \"m20xwGn6mmAQ\"\\n      },\\n      \"execution_count\": null,\\n      \"outputs\": []\\n    },\\n    {\\n      \"cell_type\": \"code\",\\n      \"source\": [\\n        \"!cat .env\"\\n      ],\\n      \"metadata\": {\\n        \"colab\": {\\n          \"base_uri\": \"https://localhost:8080/\"\\n        },\\n        \"id\": \"C1K9k6d2m6Md\",\\n        \"executionInfo\": {\\n          \"status\": \"ok\",\\n          \"timestamp\": 1747727525637,\\n          \"user_tz\": -120,\\n          \"elapsed\": 212,\\n          \"user\": {\\n            \"displayName\": \"\",\\n            \"userId\": \"\"\\n          }\\n        },\\n        \"outputId\": \"a575cb95-2a57-43d1-c1a3-33cf0a5b703c\"\\n      },\\n      \"execution_count\": null,\\n      \"outputs\": [\\n        {\\n          \"output_type\": \"stream\",\\n          \"name\": \"stdout\",\\n          \"text\": [\\n            \"TMDB_API_KEY=3cfa35042af236cd2d3d3ad121a6e865\\\\n\"\\n          ]\\n        }\\n      ]\\n    },\\n    {\\n      \"cell_type\": \"code\",\\n      \"source\": [\\n        \"!pip install dotenv\"\\n      ],\\n      \"metadata\": {\\n        \"colab\": {\\n          \"base_uri\": \"https://localhost:8080/\"\\n        },\\n        \"id\": \"StIPxP9TnBe_\",\\n        \"executionInfo\": {\\n          \"status\": \"ok\",\\n          \"timestamp\": 1747727530416,\\n          \"user_tz\": -120,\\n          \"elapsed\": 3824,\\n          \"user\": {\\n            \"displayName\": \"\",\\n            \"userId\": \"\"\\n          }\\n        },\\n        \"outputId\": \"eedba260-4182-4fa6-dab6-dc24971febf6\"\\n      },\\n      \"execution_count\": null,\\n      \"outputs\": [\\n        {\\n          \"output_type\": \"stream\",\\n          \"name\": \"stdout\",\\n          \"text\": [\\n            \"Collecting dotenv\\\\n\",\\n            \"  Downloading dotenv-0.9.9-py2.py3-none-any.whl.metadata (279 bytes)\\\\n\",\\n            \"Collecting python-dotenv (from dotenv)\\\\n\",\\n            \"  Downloading python_dotenv-1.1.0-py3-none-any.whl.metadata (24 kB)\\\\n\",\\n            \"Downloading dotenv-0.9.9-py2.py3-none-any.whl (1.9 kB)\\\\n\",\\n            \"Downloading python_dotenv-1.1.0-py3-none-any.whl (20 kB)\\\\n\",\\n            \"Installing collected packages: python-dotenv, dotenv\\\\n\",\\n            \"Successfully installed dotenv-0.9.9 python-dotenv-1.1.0\\\\n\"\\n          ]\\n        }\\n      ]\\n    },\\n    {\\n      \"cell_type\": \"code\",\\n      \"source\": [\\n        \"import os\\\\n\",\\n        \"import requests\\\\n\",\\n        \"import pandas as pd\\\\n\",\\n        \"from dotenv import load_dotenv\\\\n\",\\n        \"from google.cloud import bigquery, storage\\\\n\",\\n        \"\\\\n\",\\n        \"# Charger la cl\\xc3\\xa9 API de mani\\xc3\\xa8re s\\xc3\\xa9curis\\xc3\\xa9e\\\\n\",\\n        \"load_dotenv(\\\\\".env\\\\\")\\\\n\",\\n        \"API_KEY = os.getenv(\\\\\"TMDB_API_KEY\\\\\")\\\\n\",\\n        \"\\\\n\",\\n        \"# Variables GCP \\xc3\\xa0 jour\\\\n\",\\n        \"bucket_name = \\\\\"tmdb-data-bucket\\\\\"\\\\n\",\\n        \"bq_project = \\\\\"tmdb-elt-project-460312\\\\\"\\\\n\",\\n        \"dataset_raw = \\\\\"tmdb_raw\\\\\"\\\\n\",\\n        \"dataset_clean = \\\\\"tmdb_clean\\\\\"\\\\n\",\\n        \"table_raw = f\\\\\"{bq_project}.{dataset_raw}.movies\\\\\"\\\\n\",\\n        \"table_clean = f\\\\\"{bq_project}.{dataset_clean}.movies\\\\\"\\\\n\",\\n        \"gcs_path = f\\\\\"gs://{bucket_name}/movies_raw.csv\\\\\"\\\\n\",\\n        \"\\\\n\",\\n        \"# \\xc3\\x89tapes d\\xe2\\x80\\x99initialisation (cr\\xc3\\xa9ation si besoin)\\\\n\",\\n        \"def create_bucket_if_not_exists(bucket_name, location=\\\\\"EU\\\\\"):\\\\n\",\\n        \"    storage_client = storage.Client()\\\\n\",\\n        \"    bucket = storage_client.bucket(bucket_name)\\\\n\",\\n        \"    if not bucket.exists():\\\\n\",\\n        \"        bucket = storage_client.create_bucket(bucket_name, location=location)\\\\n\",\\n        \"        print(f\\\\\"Bucket \\'{bucket_name}\\' cr\\xc3\\xa9\\xc3\\xa9.\\\\\")\\\\n\",\\n        \"    else:\\\\n\",\\n        \"        print(f\\\\\"Bucket \\'{bucket_name}\\' d\\xc3\\xa9j\\xc3\\xa0 existant.\\\\\")\\\\n\",\\n        \"\\\\n\",\\n        \"def create_dataset_if_not_exists(dataset_id):\\\\n\",\\n        \"    client = bigquery.Client()\\\\n\",\\n        \"    try:\\\\n\",\\n        \"        client.get_dataset(dataset_id)\\\\n\",\\n        \"        print(f\\\\\"Dataset \\'{dataset_id}\\' d\\xc3\\xa9j\\xc3\\xa0 existant.\\\\\")\\\\n\",\\n        \"    except Exception:\\\\n\",\\n        \"        dataset = bigquery.Dataset(dataset_id)\\\\n\",\\n        \"        dataset.location = \\\\\"EU\\\\\"\\\\n\",\\n        \"        client.create_dataset(dataset)\\\\n\",\\n        \"        print(f\\\\\"Dataset \\'{dataset_id}\\' cr\\xc3\\xa9\\xc3\\xa9.\\\\\")\\\\n\",\\n        \"\\\\n\",\\n        \"# Pipeline complet\\\\n\",\\n        \"def run_pipeline():\\\\n\",\\n        \"    create_bucket_if_not_exists(bucket_name)\\\\n\",\\n        \"    create_dataset_if_not_exists(f\\\\\"{bq_project}.{dataset_raw}\\\\\")\\\\n\",\\n        \"    create_dataset_if_not_exists(f\\\\\"{bq_project}.{dataset_clean}\\\\\")\\\\n\",\\n        \"\\\\n\",\\n        \"    print(\\\\\"1) Extraction depuis TMDB API...\\\\\")\\\\n\",\\n        \"    BASE_URL = \\\\\"https://api.themoviedb.org/3/movie/popular\\\\\"\\\\n\",\\n        \"    all_movies = []\\\\n\",\\n        \"    for page in range(1, 6):\\\\n\",\\n        \"        url = f\\\\\"{BASE_URL}?api_key={API_KEY}&language=en-US&page={page}\\\\\"\\\\n\",\\n        \"        res = requests.get(url)\\\\n\",\\n        \"        if res.status_code == 200:\\\\n\",\\n        \"            all_movies.extend(res.json()[\\\\\"results\\\\\"])\\\\n\",\\n        \"    df = pd.DataFrame(all_movies)\\\\n\",\\n        \"    df.to_csv(\\\\\"movies_raw.csv\\\\\", index=False)\\\\n\",\\n        \"    print(\\\\\"Fichier CSV g\\xc3\\xa9n\\xc3\\xa9r\\xc3\\xa9\\\\\")\\\\n\",\\n        \"\\\\n\",\\n        \"    print(\\\\\"2) Upload vers GCS...\\\\\")\\\\n\",\\n        \"    os.system(f\\\\\"gsutil cp movies_raw.csv {gcs_path}\\\\\")\\\\n\",\\n        \"    print(\\\\\"OK! Upload GCS termin\\xc3\\xa9\\\\\")\\\\n\",\\n        \"\\\\n\",\\n        \"    print(\\\\\"3) Load brut dans BigQuery...\\\\\")\\\\n\",\\n        \"    client = bigquery.Client()\\\\n\",\\n        \"    job_config = bigquery.LoadJobConfig(\\\\n\",\\n        \"        source_format=bigquery.SourceFormat.CSV,\\\\n\",\\n        \"        skip_leading_rows=1,\\\\n\",\\n        \"        autodetect=True\\\\n\",\\n        \"    )\\\\n\",\\n        \"    load_job = client.load_table_from_uri(gcs_path, table_raw, job_config=job_config)\\\\n\",\\n        \"    load_job.result()\\\\n\",\\n        \"    print(\\\\\"Donn\\xc3\\xa9es charg\\xc3\\xa9es dans BigQuery (brutes)\\\\\")\\\\n\",\\n        \"\\\\n\",\\n        \"    print(\\\\\"4) Transformation SQL...\\\\\")\\\\n\",\\n        \"    query = f\\\\\"\\\\\"\\\\\"\\\\n\",\\n        \"CREATE OR REPLACE TABLE `{table_clean}` AS\\\\n\",\\n        \"SELECT\\\\n\",\\n        \"  id,\\\\n\",\\n        \"  title,\\\\n\",\\n        \"  release_date,\\\\n\",\\n        \"  vote_average,\\\\n\",\\n        \"  vote_count,\\\\n\",\\n        \"  genre_ids,\\\\n\",\\n        \"  popularity,\\\\n\",\\n        \"  original_language,\\\\n\",\\n        \"  backdrop_path,\\\\n\",\\n        \"  CONCAT(\\'https://image.tmdb.org/t/p/w500\\', poster_path) AS poster_path,\\\\n\",\\n        \"  overview\\\\n\",\\n        \"FROM `{table_raw}`\\\\n\",\\n        \"WHERE release_date IS NOT NULL\\\\n\",\\n        \"\\\\\"\\\\\"\\\\\"\\\\n\",\\n        \"\\\\n\",\\n        \"\\\\n\",\\n        \"\\\\n\",\\n        \"    client.query(query).result()\\\\n\",\\n        \"    print(\\\\\" Pipeline ELT termin\\xc3\\xa9 avec succ\\xc3\\xa8s.\\\\\")\\\\n\",\\n        \"\\\\n\",\\n        \"\\\\n\",\\n        \"run_pipeline()\\\\n\"\\n      ],\\n      \"metadata\": {\\n        \"id\": \"USBSwEEKpwZg\",\\n        \"executionInfo\": {\\n          \"status\": \"ok\",\\n          \"timestamp\": 1747727797435,\\n          \"user_tz\": -120,\\n          \"elapsed\": 10919,\\n          \"user\": {\\n            \"displayName\": \"\",\\n            \"userId\": \"\"\\n          }\\n        },\\n        \"outputId\": \"ea0a213c-a046-4486-b0b7-1ce6c187e0ae\",\\n        \"colab\": {\\n          \"base_uri\": \"https://localhost:8080/\"\\n        }\\n      },\\n      \"execution_count\": null,\\n      \"outputs\": [\\n        {\\n          \"output_type\": \"stream\",\\n          \"name\": \"stdout\",\\n          \"text\": [\\n            \"Bucket \\'tmdb-data-bucket\\' d\\xc3\\xa9j\\xc3\\xa0 existant.\\\\n\",\\n            \"Dataset \\'tmdb-elt-project-460312.tmdb_raw\\' d\\xc3\\xa9j\\xc3\\xa0 existant.\\\\n\",\\n            \"Dataset \\'tmdb-elt-project-460312.tmdb_clean\\' d\\xc3\\xa9j\\xc3\\xa0 existant.\\\\n\",\\n            \"1) Extraction depuis TMDB API...\\\\n\",\\n            \"Fichier CSV g\\xc3\\xa9n\\xc3\\xa9r\\xc3\\xa9\\\\n\",\\n            \"2) Upload vers GCS...\\\\n\",\\n            \"OK! Upload GCS termin\\xc3\\xa9\\\\n\",\\n            \"3) Load brut dans BigQuery...\\\\n\",\\n            \"Donn\\xc3\\xa9es charg\\xc3\\xa9es dans BigQuery (brutes)\\\\n\",\\n            \"4) Transformation SQL...\\\\n\",\\n            \" Pipeline ELT termin\\xc3\\xa9 avec succ\\xc3\\xa8s.\\\\n\"\\n          ]\\n        }\\n      ]\\n    },\\n    {\\n      \"cell_type\": \"code\",\\n      \"source\": [\\n        \"pd.read_csv(\\\\\"movies_raw.csv\\\\\").head()\\\\n\"\\n      ],\\n      \"metadata\": {\\n        \"colab\": {\\n          \"base_uri\": \"https://localhost:8080/\",\\n          \"height\": 469\\n        },\\n        \"id\": \"s1kLaUfQqVub\",\\n        \"executionInfo\": {\\n          \"status\": \"ok\",\\n          \"timestamp\": 1747727550034,\\n          \"user_tz\": -120,\\n          \"elapsed\": 343,\\n          \"user\": {\\n            \"displayName\": \"\",\\n            \"userId\": \"\"\\n          }\\n        },\\n        \"outputId\": \"98636078-76ce-4b96-c004-8ff79ae27d85\"\\n      },\\n      \"execution_count\": null,\\n      \"outputs\": [\\n        {\\n          \"output_type\": \"execute_result\",\\n          \"data\": {\\n            \"text/plain\": [\\n              \"   adult                     backdrop_path            genre_ids       id  \\\\\\\\\\\\n\",\\n              \"0  False  /2Nti3gYAX513wvhp8IiLL6ZDyOm.jpg  [10751, 35, 12, 14]   950387   \\\\n\",\\n              \"1  False  /j0NUh5irX7q2jIRtbLo8TZyRn6y.jpg           [27, 9648]   574475   \\\\n\",\\n              \"2  False  /fTrQsdMS2MUw00RnzH0r3JWHhts.jpg         [28, 80, 53]  1197306   \\\\n\",\\n              \"3  False  /cJvUJEEQ86LSjl4gFLkYpdCJC96.jpg          [10752, 28]  1241436   \\\\n\",\\n              \"4  False  /tyfO9jHgkhypUFizRVYD0bytPjP.jpg          [10751, 14]   447273   \\\\n\",\\n              \"\\\\n\",\\n              \"  original_language                original_title  \\\\\\\\\\\\n\",\\n              \"0                en             A Minecraft Movie   \\\\n\",\\n              \"1                en  Final Destination Bloodlines   \\\\n\",\\n              \"2                en                 A Working Man   \\\\n\",\\n              \"3                en                       Warfare   \\\\n\",\\n              \"4                en                    Snow White   \\\\n\",\\n              \"\\\\n\",\\n              \"                                            overview  popularity  \\\\\\\\\\\\n\",\\n              \"0  Four misfits find themselves struggling with o...    899.2165   \\\\n\",\\n              \"1  Plagued by a violent recurring nightmare, coll...    503.2304   \\\\n\",\\n              \"2  Levon Cade left behind a decorated military ca...    365.7532   \\\\n\",\\n              \"3  A platoon of Navy SEALs embarks on a dangerous...    340.5692   \\\\n\",\\n              \"4  Following the benevolent King\\'s disappearance,...    375.4531   \\\\n\",\\n              \"\\\\n\",\\n              \"                        poster_path release_date  \\\\\\\\\\\\n\",\\n              \"0  /yFHHfHcUgGAxziP1C3lLt0q2T4s.jpg   2025-03-31   \\\\n\",\\n              \"1  /6WxhEvFsauuACfv8HyoVX6mZKFj.jpg   2025-05-09   \\\\n\",\\n              \"2  /6FRFIogh3zFnVWn7Z6zcYnIbRcX.jpg   2025-03-26   \\\\n\",\\n              \"3  /srj9rYrjefyWqkLc6l2xjTGeBGO.jpg   2025-04-09   \\\\n\",\\n              \"4  /oLxWocqheC8XbXbxqJ3x422j9PW.jpg   2025-03-12   \\\\n\",\\n              \"\\\\n\",\\n              \"                          title  video  vote_average  vote_count  \\\\n\",\\n              \"0             A Minecraft Movie  False         6.511        1280  \\\\n\",\\n              \"1  Final Destination Bloodlines  False         7.152         240  \\\\n\",\\n              \"2                 A Working Man  False         6.586         827  \\\\n\",\\n              \"3                       Warfare  False         7.158         367  \\\\n\",\\n              \"4                    Snow White  False         4.335         869  \"\\n            ],\\n            \"text/html\": [\\n              \"\\\\n\",\\n              \"  <div id=\\\\\"df-d1f5b3a7-0d1b-4b88-b753-33cb1143fd85\\\\\" class=\\\\\"colab-df-container\\\\\">\\\\n\",\\n              \"    <div>\\\\n\",\\n              \"<style scoped>\\\\n\",\\n              \"    .dataframe tbody tr th:only-of-type {\\\\n\",\\n              \"        vertical-align: middle;\\\\n\",\\n              \"    }\\\\n\",\\n              \"\\\\n\",\\n              \"    .dataframe tbody tr th {\\\\n\",\\n              \"        vertical-align: top;\\\\n\",\\n              \"    }\\\\n\",\\n              \"\\\\n\",\\n              \"    .dataframe thead th {\\\\n\",\\n              \"        text-align: right;\\\\n\",\\n              \"    }\\\\n\",\\n              \"</style>\\\\n\",\\n              \"<table border=\\\\\"1\\\\\" class=\\\\\"dataframe\\\\\">\\\\n\",\\n              \"  <thead>\\\\n\",\\n              \"    <tr style=\\\\\"text-align: right;\\\\\">\\\\n\",\\n              \"      <th></th>\\\\n\",\\n              \"      <th>adult</th>\\\\n\",\\n              \"      <th>backdrop_path</th>\\\\n\",\\n              \"      <th>genre_ids</th>\\\\n\",\\n              \"      <th>id</th>\\\\n\",\\n              \"      <th>original_language</th>\\\\n\",\\n              \"      <th>original_title</th>\\\\n\",\\n              \"      <th>overview</th>\\\\n\",\\n              \"      <th>popularity</th>\\\\n\",\\n              \"      <th>poster_path</th>\\\\n\",\\n              \"      <th>release_date</th>\\\\n\",\\n              \"      <th>title</th>\\\\n\",\\n              \"      <th>video</th>\\\\n\",\\n              \"      <th>vote_average</th>\\\\n\",\\n              \"      <th>vote_count</th>\\\\n\",\\n              \"    </tr>\\\\n\",\\n              \"  </thead>\\\\n\",\\n              \"  <tbody>\\\\n\",\\n              \"    <tr>\\\\n\",\\n              \"      <th>0</th>\\\\n\",\\n              \"      <td>False</td>\\\\n\",\\n              \"      <td>/2Nti3gYAX513wvhp8IiLL6ZDyOm.jpg</td>\\\\n\",\\n              \"      <td>[10751, 35, 12, 14]</td>\\\\n\",\\n              \"      <td>950387</td>\\\\n\",\\n              \"      <td>en</td>\\\\n\",\\n              \"      <td>A Minecraft Movie</td>\\\\n\",\\n              \"      <td>Four misfits find themselves struggling with o...</td>\\\\n\",\\n              \"      <td>899.2165</td>\\\\n\",\\n              \"      <td>/yFHHfHcUgGAxziP1C3lLt0q2T4s.jpg</td>\\\\n\",\\n              \"      <td>2025-03-31</td>\\\\n\",\\n              \"      <td>A Minecraft Movie</td>\\\\n\",\\n              \"      <td>False</td>\\\\n\",\\n              \"      <td>6.511</td>\\\\n\",\\n              \"      <td>1280</td>\\\\n\",\\n              \"    </tr>\\\\n\",\\n              \"    <tr>\\\\n\",\\n              \"      <th>1</th>\\\\n\",\\n              \"      <td>False</td>\\\\n\",\\n              \"      <td>/j0NUh5irX7q2jIRtbLo8TZyRn6y.jpg</td>\\\\n\",\\n              \"      <td>[27, 9648]</td>\\\\n\",\\n              \"      <td>574475</td>\\\\n\",\\n              \"      <td>en</td>\\\\n\",\\n              \"      <td>Final Destination Bloodlines</td>\\\\n\",\\n              \"      <td>Plagued by a violent recurring nightmare, coll...</td>\\\\n\",\\n              \"      <td>503.2304</td>\\\\n\",\\n              \"      <td>/6WxhEvFsauuACfv8HyoVX6mZKFj.jpg</td>\\\\n\",\\n              \"      <td>2025-05-09</td>\\\\n\",\\n              \"      <td>Final Destination Bloodlines</td>\\\\n\",\\n              \"      <td>False</td>\\\\n\",\\n              \"      <td>7.152</td>\\\\n\",\\n              \"      <td>240</td>\\\\n\",\\n              \"    </tr>\\\\n\",\\n              \"    <tr>\\\\n\",\\n              \"      <th>2</th>\\\\n\",\\n              \"      <td>False</td>\\\\n\",\\n              \"      <td>/fTrQsdMS2MUw00RnzH0r3JWHhts.jpg</td>\\\\n\",\\n              \"      <td>[28, 80, 53]</td>\\\\n\",\\n              \"      <td>1197306</td>\\\\n\",\\n              \"      <td>en</td>\\\\n\",\\n              \"      <td>A Working Man</td>\\\\n\",\\n              \"      <td>Levon Cade left behind a decorated military ca...</td>\\\\n\",\\n              \"      <td>365.7532</td>\\\\n\",\\n              \"      <td>/6FRFIogh3zFnVWn7Z6zcYnIbRcX.jpg</td>\\\\n\",\\n              \"      <td>2025-03-26</td>\\\\n\",\\n              \"      <td>A Working Man</td>\\\\n\",\\n              \"      <td>False</td>\\\\n\",\\n              \"      <td>6.586</td>\\\\n\",\\n              \"      <td>827</td>\\\\n\",\\n              \"    </tr>\\\\n\",\\n              \"    <tr>\\\\n\",\\n              \"      <th>3</th>\\\\n\",\\n              \"      <td>False</td>\\\\n\",\\n              \"      <td>/cJvUJEEQ86LSjl4gFLkYpdCJC96.jpg</td>\\\\n\",\\n              \"      <td>[10752, 28]</td>\\\\n\",\\n              \"      <td>1241436</td>\\\\n\",\\n              \"      <td>en</td>\\\\n\",\\n              \"      <td>Warfare</td>\\\\n\",\\n              \"      <td>A platoon of Navy SEALs embarks on a dangerous...</td>\\\\n\",\\n              \"      <td>340.5692</td>\\\\n\",\\n              \"      <td>/srj9rYrjefyWqkLc6l2xjTGeBGO.jpg</td>\\\\n\",\\n              \"      <td>2025-04-09</td>\\\\n\",\\n              \"      <td>Warfare</td>\\\\n\",\\n              \"      <td>False</td>\\\\n\",\\n              \"      <td>7.158</td>\\\\n\",\\n              \"      <td>367</td>\\\\n\",\\n              \"    </tr>\\\\n\",\\n              \"    <tr>\\\\n\",\\n              \"      <th>4</th>\\\\n\",\\n              \"      <td>False</td>\\\\n\",\\n              \"      <td>/tyfO9jHgkhypUFizRVYD0bytPjP.jpg</td>\\\\n\",\\n              \"      <td>[10751, 14]</td>\\\\n\",\\n              \"      <td>447273</td>\\\\n\",\\n              \"      <td>en</td>\\\\n\",\\n              \"      <td>Snow White</td>\\\\n\",\\n              \"      <td>Following the benevolent King\\'s disappearance,...</td>\\\\n\",\\n              \"      <td>375.4531</td>\\\\n\",\\n              \"      <td>/oLxWocqheC8XbXbxqJ3x422j9PW.jpg</td>\\\\n\",\\n              \"      <td>2025-03-12</td>\\\\n\",\\n              \"      <td>Snow White</td>\\\\n\",\\n              \"      <td>False</td>\\\\n\",\\n              \"      <td>4.335</td>\\\\n\",\\n              \"      <td>869</td>\\\\n\",\\n              \"    </tr>\\\\n\",\\n              \"  </tbody>\\\\n\",\\n              \"</table>\\\\n\",\\n              \"</div>\\\\n\",\\n              \"    <div class=\\\\\"colab-df-buttons\\\\\">\\\\n\",\\n              \"\\\\n\",\\n              \"  <div class=\\\\\"colab-df-container\\\\\">\\\\n\",\\n              \"    <button class=\\\\\"colab-df-convert\\\\\" onclick=\\\\\"convertToInteractive(\\'df-d1f5b3a7-0d1b-4b88-b753-33cb1143fd85\\')\\\\\"\\\\n\",\\n              \"            title=\\\\\"Convert this dataframe to an interactive table.\\\\\"\\\\n\",\\n              \"            style=\\\\\"display:none;\\\\\">\\\\n\",\\n              \"\\\\n\",\\n              \"  <svg xmlns=\\\\\"http://www.w3.org/2000/svg\\\\\" height=\\\\\"24px\\\\\" viewBox=\\\\\"0 -960 960 960\\\\\">\\\\n\",\\n              \"    <path d=\\\\\"M120-120v-720h720v720H120Zm60-500h600v-160H180v160Zm220 220h160v-160H400v160Zm0 220h160v-160H400v160ZM180-400h160v-160H180v160Zm440 0h160v-160H620v160ZM180-180h160v-160H180v160Zm440 0h160v-160H620v160Z\\\\\"/>\\\\n\",\\n              \"  </svg>\\\\n\",\\n              \"    </button>\\\\n\",\\n              \"\\\\n\",\\n              \"  <style>\\\\n\",\\n              \"    .colab-df-container {\\\\n\",\\n              \"      display:flex;\\\\n\",\\n              \"      gap: 12px;\\\\n\",\\n              \"    }\\\\n\",\\n              \"\\\\n\",\\n              \"    .colab-df-convert {\\\\n\",\\n              \"      background-color: #E8F0FE;\\\\n\",\\n              \"      border: none;\\\\n\",\\n              \"      border-radius: 50%;\\\\n\",\\n              \"      cursor: pointer;\\\\n\",\\n              \"      display: none;\\\\n\",\\n              \"      fill: #1967D2;\\\\n\",\\n              \"      height: 32px;\\\\n\",\\n              \"      padding: 0 0 0 0;\\\\n\",\\n              \"      width: 32px;\\\\n\",\\n              \"    }\\\\n\",\\n              \"\\\\n\",\\n              \"    .colab-df-convert:hover {\\\\n\",\\n              \"      background-color: #E2EBFA;\\\\n\",\\n              \"      box-shadow: 0px 1px 2px rgba(60, 64, 67, 0.3), 0px 1px 3px 1px rgba(60, 64, 67, 0.15);\\\\n\",\\n              \"      fill: #174EA6;\\\\n\",\\n              \"    }\\\\n\",\\n              \"\\\\n\",\\n              \"    .colab-df-buttons div {\\\\n\",\\n              \"      margin-bottom: 4px;\\\\n\",\\n              \"    }\\\\n\",\\n              \"\\\\n\",\\n              \"    [theme=dark] .colab-df-convert {\\\\n\",\\n              \"      background-color: #3B4455;\\\\n\",\\n              \"      fill: #D2E3FC;\\\\n\",\\n              \"    }\\\\n\",\\n              \"\\\\n\",\\n              \"    [theme=dark] .colab-df-convert:hover {\\\\n\",\\n              \"      background-color: #434B5C;\\\\n\",\\n              \"      box-shadow: 0px 1px 3px 1px rgba(0, 0, 0, 0.15);\\\\n\",\\n              \"      filter: drop-shadow(0px 1px 2px rgba(0, 0, 0, 0.3));\\\\n\",\\n              \"      fill: #FFFFFF;\\\\n\",\\n              \"    }\\\\n\",\\n              \"  </style>\\\\n\",\\n              \"\\\\n\",\\n              \"    <script>\\\\n\",\\n              \"      const buttonEl =\\\\n\",\\n              \"        document.querySelector(\\'#df-d1f5b3a7-0d1b-4b88-b753-33cb1143fd85 button.colab-df-convert\\');\\\\n\",\\n              \"      buttonEl.style.display =\\\\n\",\\n              \"        google.colab.kernel.accessAllowed ? \\'block\\' : \\'none\\';\\\\n\",\\n              \"\\\\n\",\\n              \"      async function convertToInteractive(key) {\\\\n\",\\n              \"        const element = document.querySelector(\\'#df-d1f5b3a7-0d1b-4b88-b753-33cb1143fd85\\');\\\\n\",\\n              \"        const dataTable =\\\\n\",\\n              \"          await google.colab.kernel.invokeFunction(\\'convertToInteractive\\',\\\\n\",\\n              \"                                                    [key], {});\\\\n\",\\n              \"        if (!dataTable) return;\\\\n\",\\n              \"\\\\n\",\\n              \"        const docLinkHtml = \\'Like what you see? Visit the \\' +\\\\n\",\\n              \"          \\'<a target=\\\\\"_blank\\\\\" href=https://colab.research.google.com/notebooks/data_table.ipynb>data table notebook</a>\\'\\\\n\",\\n              \"          + \\' to learn more about interactive tables.\\';\\\\n\",\\n              \"        element.innerHTML = \\'\\';\\\\n\",\\n              \"        dataTable[\\'output_type\\'] = \\'display_data\\';\\\\n\",\\n              \"        await google.colab.output.renderOutput(dataTable, element);\\\\n\",\\n              \"        const docLink = document.createElement(\\'div\\');\\\\n\",\\n              \"        docLink.innerHTML = docLinkHtml;\\\\n\",\\n              \"        element.appendChild(docLink);\\\\n\",\\n              \"      }\\\\n\",\\n              \"    </script>\\\\n\",\\n              \"  </div>\\\\n\",\\n              \"\\\\n\",\\n              \"\\\\n\",\\n              \"<div id=\\\\\"df-b36f52ab-7159-4641-a1a2-0b1e44c382cf\\\\\">\\\\n\",\\n              \"  <button class=\\\\\"colab-df-quickchart\\\\\" onclick=\\\\\"quickchart(\\'df-b36f52ab-7159-4641-a1a2-0b1e44c382cf\\')\\\\\"\\\\n\",\\n              \"            title=\\\\\"Suggest charts\\\\\"\\\\n\",\\n              \"            style=\\\\\"display:none;\\\\\">\\\\n\",\\n              \"\\\\n\",\\n              \"<svg xmlns=\\\\\"http://www.w3.org/2000/svg\\\\\" height=\\\\\"24px\\\\\"viewBox=\\\\\"0 0 24 24\\\\\"\\\\n\",\\n              \"     width=\\\\\"24px\\\\\">\\\\n\",\\n              \"    <g>\\\\n\",\\n              \"        <path d=\\\\\"M19 3H5c-1.1 0-2 .9-2 2v14c0 1.1.9 2 2 2h14c1.1 0 2-.9 2-2V5c0-1.1-.9-2-2-2zM9 17H7v-7h2v7zm4 0h-2V7h2v10zm4 0h-2v-4h2v4z\\\\\"/>\\\\n\",\\n              \"    </g>\\\\n\",\\n              \"</svg>\\\\n\",\\n              \"  </button>\\\\n\",\\n              \"\\\\n\",\\n              \"<style>\\\\n\",\\n              \"  .colab-df-quickchart {\\\\n\",\\n              \"      --bg-color: #E8F0FE;\\\\n\",\\n              \"      --fill-color: #1967D2;\\\\n\",\\n              \"      --hover-bg-color: #E2EBFA;\\\\n\",\\n              \"      --hover-fill-color: #174EA6;\\\\n\",\\n              \"      --disabled-fill-color: #AAA;\\\\n\",\\n              \"      --disabled-bg-color: #DDD;\\\\n\",\\n              \"  }\\\\n\",\\n              \"\\\\n\",\\n              \"  [theme=dark] .colab-df-quickchart {\\\\n\",\\n              \"      --bg-color: #3B4455;\\\\n\",\\n              \"      --fill-color: #D2E3FC;\\\\n\",\\n              \"      --hover-bg-color: #434B5C;\\\\n\",\\n              \"      --hover-fill-color: #FFFFFF;\\\\n\",\\n              \"      --disabled-bg-color: #3B4455;\\\\n\",\\n              \"      --disabled-fill-color: #666;\\\\n\",\\n              \"  }\\\\n\",\\n              \"\\\\n\",\\n              \"  .colab-df-quickchart {\\\\n\",\\n              \"    background-color: var(--bg-color);\\\\n\",\\n              \"    border: none;\\\\n\",\\n              \"    border-radius: 50%;\\\\n\",\\n              \"    cursor: pointer;\\\\n\",\\n              \"    display: none;\\\\n\",\\n              \"    fill: var(--fill-color);\\\\n\",\\n              \"    height: 32px;\\\\n\",\\n              \"    padding: 0;\\\\n\",\\n              \"    width: 32px;\\\\n\",\\n              \"  }\\\\n\",\\n              \"\\\\n\",\\n              \"  .colab-df-quickchart:hover {\\\\n\",\\n              \"    background-color: var(--hover-bg-color);\\\\n\",\\n              \"    box-shadow: 0 1px 2px rgba(60, 64, 67, 0.3), 0 1px 3px 1px rgba(60, 64, 67, 0.15);\\\\n\",\\n              \"    fill: var(--button-hover-fill-color);\\\\n\",\\n              \"  }\\\\n\",\\n              \"\\\\n\",\\n              \"  .colab-df-quickchart-complete:disabled,\\\\n\",\\n              \"  .colab-df-quickchart-complete:disabled:hover {\\\\n\",\\n              \"    background-color: var(--disabled-bg-color);\\\\n\",\\n              \"    fill: var(--disabled-fill-color);\\\\n\",\\n              \"    box-shadow: none;\\\\n\",\\n              \"  }\\\\n\",\\n              \"\\\\n\",\\n              \"  .colab-df-spinner {\\\\n\",\\n              \"    border: 2px solid var(--fill-color);\\\\n\",\\n              \"    border-color: transparent;\\\\n\",\\n              \"    border-bottom-color: var(--fill-color);\\\\n\",\\n              \"    animation:\\\\n\",\\n              \"      spin 1s steps(1) infinite;\\\\n\",\\n              \"  }\\\\n\",\\n              \"\\\\n\",\\n              \"  @keyframes spin {\\\\n\",\\n              \"    0% {\\\\n\",\\n              \"      border-color: transparent;\\\\n\",\\n              \"      border-bottom-color: var(--fill-color);\\\\n\",\\n              \"      border-left-color: var(--fill-color);\\\\n\",\\n              \"    }\\\\n\",\\n              \"    20% {\\\\n\",\\n              \"      border-color: transparent;\\\\n\",\\n              \"      border-left-color: var(--fill-color);\\\\n\",\\n              \"      border-top-color: var(--fill-color);\\\\n\",\\n              \"    }\\\\n\",\\n              \"    30% {\\\\n\",\\n              \"      border-color: transparent;\\\\n\",\\n              \"      border-left-color: var(--fill-color);\\\\n\",\\n              \"      border-top-color: var(--fill-color);\\\\n\",\\n              \"      border-right-color: var(--fill-color);\\\\n\",\\n              \"    }\\\\n\",\\n              \"    40% {\\\\n\",\\n              \"      border-color: transparent;\\\\n\",\\n              \"      border-right-color: var(--fill-color);\\\\n\",\\n              \"      border-top-color: var(--fill-color);\\\\n\",\\n              \"    }\\\\n\",\\n              \"    60% {\\\\n\",\\n              \"      border-color: transparent;\\\\n\",\\n              \"      border-right-color: var(--fill-color);\\\\n\",\\n              \"    }\\\\n\",\\n              \"    80% {\\\\n\",\\n              \"      border-color: transparent;\\\\n\",\\n              \"      border-right-color: var(--fill-color);\\\\n\",\\n              \"      border-bottom-color: var(--fill-color);\\\\n\",\\n              \"    }\\\\n\",\\n              \"    90% {\\\\n\",\\n              \"      border-color: transparent;\\\\n\",\\n              \"      border-bottom-color: var(--fill-color);\\\\n\",\\n              \"    }\\\\n\",\\n              \"  }\\\\n\",\\n              \"</style>\\\\n\",\\n              \"\\\\n\",\\n              \"  <script>\\\\n\",\\n              \"    async function quickchart(key) {\\\\n\",\\n              \"      const quickchartButtonEl =\\\\n\",\\n              \"        document.querySelector(\\'#\\' + key + \\' button\\');\\\\n\",\\n              \"      quickchartButtonEl.disabled = true;  // To prevent multiple clicks.\\\\n\",\\n              \"      quickchartButtonEl.classList.add(\\'colab-df-spinner\\');\\\\n\",\\n              \"      try {\\\\n\",\\n              \"        const charts = await google.colab.kernel.invokeFunction(\\\\n\",\\n              \"            \\'suggestCharts\\', [key], {});\\\\n\",\\n              \"      } catch (error) {\\\\n\",\\n              \"        console.error(\\'Error during call to suggestCharts:\\', error);\\\\n\",\\n              \"      }\\\\n\",\\n              \"      quickchartButtonEl.classList.remove(\\'colab-df-spinner\\');\\\\n\",\\n              \"      quickchartButtonEl.classList.add(\\'colab-df-quickchart-complete\\');\\\\n\",\\n              \"    }\\\\n\",\\n              \"    (() => {\\\\n\",\\n              \"      let quickchartButtonEl =\\\\n\",\\n              \"        document.querySelector(\\'#df-b36f52ab-7159-4641-a1a2-0b1e44c382cf button\\');\\\\n\",\\n              \"      quickchartButtonEl.style.display =\\\\n\",\\n              \"        google.colab.kernel.accessAllowed ? \\'block\\' : \\'none\\';\\\\n\",\\n              \"    })();\\\\n\",\\n              \"  </script>\\\\n\",\\n              \"</div>\\\\n\",\\n              \"\\\\n\",\\n              \"    </div>\\\\n\",\\n              \"  </div>\\\\n\"\\n            ],\\n            \"application/vnd.google.colaboratory.intrinsic+json\": {\\n              \"type\": \"dataframe\",\\n              \"summary\": \"{\\\\n  \\\\\"name\\\\\": \\\\\"pd\\\\\",\\\\n  \\\\\"rows\\\\\": 5,\\\\n  \\\\\"fields\\\\\": [\\\\n    {\\\\n      \\\\\"column\\\\\": \\\\\"adult\\\\\",\\\\n      \\\\\"properties\\\\\": {\\\\n        \\\\\"dtype\\\\\": \\\\\"boolean\\\\\",\\\\n        \\\\\"num_unique_values\\\\\": 1,\\\\n        \\\\\"samples\\\\\": [\\\\n          false\\\\n        ],\\\\n        \\\\\"semantic_type\\\\\": \\\\\"\\\\\",\\\\n        \\\\\"description\\\\\": \\\\\"\\\\\"\\\\n      }\\\\n    },\\\\n    {\\\\n      \\\\\"column\\\\\": \\\\\"backdrop_path\\\\\",\\\\n      \\\\\"properties\\\\\": {\\\\n        \\\\\"dtype\\\\\": \\\\\"string\\\\\",\\\\n        \\\\\"num_unique_values\\\\\": 5,\\\\n        \\\\\"samples\\\\\": [\\\\n          \\\\\"/j0NUh5irX7q2jIRtbLo8TZyRn6y.jpg\\\\\"\\\\n        ],\\\\n        \\\\\"semantic_type\\\\\": \\\\\"\\\\\",\\\\n        \\\\\"description\\\\\": \\\\\"\\\\\"\\\\n      }\\\\n    },\\\\n    {\\\\n      \\\\\"column\\\\\": \\\\\"genre_ids\\\\\",\\\\n      \\\\\"properties\\\\\": {\\\\n        \\\\\"dtype\\\\\": \\\\\"string\\\\\",\\\\n        \\\\\"num_unique_values\\\\\": 5,\\\\n        \\\\\"samples\\\\\": [\\\\n          \\\\\"[27, 9648]\\\\\"\\\\n        ],\\\\n        \\\\\"semantic_type\\\\\": \\\\\"\\\\\",\\\\n        \\\\\"description\\\\\": \\\\\"\\\\\"\\\\n      }\\\\n    },\\\\n    {\\\\n      \\\\\"column\\\\\": \\\\\"id\\\\\",\\\\n      \\\\\"properties\\\\\": {\\\\n        \\\\\"dtype\\\\\": \\\\\"number\\\\\",\\\\n        \\\\\"std\\\\\": 359460,\\\\n        \\\\\"min\\\\\": 447273,\\\\n        \\\\\"max\\\\\": 1241436,\\\\n        \\\\\"num_unique_values\\\\\": 5,\\\\n        \\\\\"samples\\\\\": [\\\\n          574475\\\\n        ],\\\\n        \\\\\"semantic_type\\\\\": \\\\\"\\\\\",\\\\n        \\\\\"description\\\\\": \\\\\"\\\\\"\\\\n      }\\\\n    },\\\\n    {\\\\n      \\\\\"column\\\\\": \\\\\"original_language\\\\\",\\\\n      \\\\\"properties\\\\\": {\\\\n        \\\\\"dtype\\\\\": \\\\\"category\\\\\",\\\\n        \\\\\"num_unique_values\\\\\": 1,\\\\n        \\\\\"samples\\\\\": [\\\\n          \\\\\"en\\\\\"\\\\n        ],\\\\n        \\\\\"semantic_type\\\\\": \\\\\"\\\\\",\\\\n        \\\\\"description\\\\\": \\\\\"\\\\\"\\\\n      }\\\\n    },\\\\n    {\\\\n      \\\\\"column\\\\\": \\\\\"original_title\\\\\",\\\\n      \\\\\"properties\\\\\": {\\\\n        \\\\\"dtype\\\\\": \\\\\"string\\\\\",\\\\n        \\\\\"num_unique_values\\\\\": 5,\\\\n        \\\\\"samples\\\\\": [\\\\n          \\\\\"Final Destination Bloodlines\\\\\"\\\\n        ],\\\\n        \\\\\"semantic_type\\\\\": \\\\\"\\\\\",\\\\n        \\\\\"description\\\\\": \\\\\"\\\\\"\\\\n      }\\\\n    },\\\\n    {\\\\n      \\\\\"column\\\\\": \\\\\"overview\\\\\",\\\\n      \\\\\"properties\\\\\": {\\\\n        \\\\\"dtype\\\\\": \\\\\"string\\\\\",\\\\n        \\\\\"num_unique_values\\\\\": 5,\\\\n        \\\\\"samples\\\\\": [\\\\n          \\\\\"Plagued by a violent recurring nightmare, college student Stefanie heads home to track down the one person who might be able to break the cycle and save her family from the grisly demise that inevitably awaits them all.\\\\\"\\\\n        ],\\\\n        \\\\\"semantic_type\\\\\": \\\\\"\\\\\",\\\\n        \\\\\"description\\\\\": \\\\\"\\\\\"\\\\n      }\\\\n    },\\\\n    {\\\\n      \\\\\"column\\\\\": \\\\\"popularity\\\\\",\\\\n      \\\\\"properties\\\\\": {\\\\n        \\\\\"dtype\\\\\": \\\\\"number\\\\\",\\\\n        \\\\\"std\\\\\": 233.605852036367,\\\\n        \\\\\"min\\\\\": 340.5692,\\\\n        \\\\\"max\\\\\": 899.2165,\\\\n        \\\\\"num_unique_values\\\\\": 5,\\\\n        \\\\\"samples\\\\\": [\\\\n          503.2304\\\\n        ],\\\\n        \\\\\"semantic_type\\\\\": \\\\\"\\\\\",\\\\n        \\\\\"description\\\\\": \\\\\"\\\\\"\\\\n      }\\\\n    },\\\\n    {\\\\n      \\\\\"column\\\\\": \\\\\"poster_path\\\\\",\\\\n      \\\\\"properties\\\\\": {\\\\n        \\\\\"dtype\\\\\": \\\\\"string\\\\\",\\\\n        \\\\\"num_unique_values\\\\\": 5,\\\\n        \\\\\"samples\\\\\": [\\\\n          \\\\\"/6WxhEvFsauuACfv8HyoVX6mZKFj.jpg\\\\\"\\\\n        ],\\\\n        \\\\\"semantic_type\\\\\": \\\\\"\\\\\",\\\\n        \\\\\"description\\\\\": \\\\\"\\\\\"\\\\n      }\\\\n    },\\\\n    {\\\\n      \\\\\"column\\\\\": \\\\\"release_date\\\\\",\\\\n      \\\\\"properties\\\\\": {\\\\n        \\\\\"dtype\\\\\": \\\\\"object\\\\\",\\\\n        \\\\\"num_unique_values\\\\\": 5,\\\\n        \\\\\"samples\\\\\": [\\\\n          \\\\\"2025-05-09\\\\\"\\\\n        ],\\\\n        \\\\\"semantic_type\\\\\": \\\\\"\\\\\",\\\\n        \\\\\"description\\\\\": \\\\\"\\\\\"\\\\n      }\\\\n    },\\\\n    {\\\\n      \\\\\"column\\\\\": \\\\\"title\\\\\",\\\\n      \\\\\"properties\\\\\": {\\\\n        \\\\\"dtype\\\\\": \\\\\"string\\\\\",\\\\n        \\\\\"num_unique_values\\\\\": 5,\\\\n        \\\\\"samples\\\\\": [\\\\n          \\\\\"Final Destination Bloodlines\\\\\"\\\\n        ],\\\\n        \\\\\"semantic_type\\\\\": \\\\\"\\\\\",\\\\n        \\\\\"description\\\\\": \\\\\"\\\\\"\\\\n      }\\\\n    },\\\\n    {\\\\n      \\\\\"column\\\\\": \\\\\"video\\\\\",\\\\n      \\\\\"properties\\\\\": {\\\\n        \\\\\"dtype\\\\\": \\\\\"boolean\\\\\",\\\\n        \\\\\"num_unique_values\\\\\": 1,\\\\n        \\\\\"samples\\\\\": [\\\\n          false\\\\n        ],\\\\n        \\\\\"semantic_type\\\\\": \\\\\"\\\\\",\\\\n        \\\\\"description\\\\\": \\\\\"\\\\\"\\\\n      }\\\\n    },\\\\n    {\\\\n      \\\\\"column\\\\\": \\\\\"vote_average\\\\\",\\\\n      \\\\\"properties\\\\\": {\\\\n        \\\\\"dtype\\\\\": \\\\\"number\\\\\",\\\\n        \\\\\"std\\\\\": 1.1659649651683366,\\\\n        \\\\\"min\\\\\": 4.335,\\\\n        \\\\\"max\\\\\": 7.158,\\\\n        \\\\\"num_unique_values\\\\\": 5,\\\\n        \\\\\"samples\\\\\": [\\\\n          7.152\\\\n        ],\\\\n        \\\\\"semantic_type\\\\\": \\\\\"\\\\\",\\\\n        \\\\\"description\\\\\": \\\\\"\\\\\"\\\\n      }\\\\n    },\\\\n    {\\\\n      \\\\\"column\\\\\": \\\\\"vote_count\\\\\",\\\\n      \\\\\"properties\\\\\": {\\\\n        \\\\\"dtype\\\\\": \\\\\"number\\\\\",\\\\n        \\\\\"std\\\\\": 418,\\\\n        \\\\\"min\\\\\": 240,\\\\n        \\\\\"max\\\\\": 1280,\\\\n        \\\\\"num_unique_values\\\\\": 5,\\\\n        \\\\\"samples\\\\\": [\\\\n          240\\\\n        ],\\\\n        \\\\\"semantic_type\\\\\": \\\\\"\\\\\",\\\\n        \\\\\"description\\\\\": \\\\\"\\\\\"\\\\n      }\\\\n    }\\\\n  ]\\\\n}\"\\n            }\\n          },\\n          \"metadata\": {},\\n          \"execution_count\": 10\\n        }\\n      ]\\n    },\\n    {\\n      \"cell_type\": \"code\",\\n      \"source\": [\\n        \"!gsutil ls gs://tmdb-data-bucket/\\\\n\"\\n      ],\\n      \"metadata\": {\\n        \"colab\": {\\n          \"base_uri\": \"https://localhost:8080/\"\\n        },\\n        \"id\": \"uwiHxsxWqYfb\",\\n        \"executionInfo\": {\\n          \"status\": \"ok\",\\n          \"timestamp\": 1747727556926,\\n          \"user_tz\": -120,\\n          \"elapsed\": 2234,\\n          \"user\": {\\n            \"displayName\": \"\",\\n            \"userId\": \"\"\\n          }\\n        },\\n        \"outputId\": \"1623c569-d01a-4d1a-c154-ae7998d5e42f\"\\n      },\\n      \"execution_count\": null,\\n      \"outputs\": [\\n        {\\n          \"output_type\": \"stream\",\\n          \"name\": \"stdout\",\\n          \"text\": [\\n            \"gs://tmdb-data-bucket/movies_raw.csv\\\\n\"\\n          ]\\n        }\\n      ]\\n    },\\n    {\\n      \"cell_type\": \"code\",\\n      \"source\": [\\n        \"client = bigquery.Client()\\\\n\",\\n        \"df_raw = client.query(f\\\\\"SELECT * FROM `{table_raw}` LIMIT 10\\\\\").to_dataframe()\\\\n\",\\n        \"df_raw\"\\n      ],\\n      \"metadata\": {\\n        \"colab\": {\\n          \"base_uri\": \"https://localhost:8080/\",\\n          \"height\": 1000\\n        },\\n        \"id\": \"-opFlt_xqarc\",\\n        \"executionInfo\": {\\n          \"status\": \"ok\",\\n          \"timestamp\": 1747727560573,\\n          \"user_tz\": -120,\\n          \"elapsed\": 2016,\\n          \"user\": {\\n            \"displayName\": \"\",\\n            \"userId\": \"\"\\n          }\\n        },\\n        \"outputId\": \"9ad56ab2-1fd2-4561-8430-cb6442713b74\"\\n      },\\n      \"execution_count\": null,\\n      \"outputs\": [\\n        {\\n          \"output_type\": \"execute_result\",\\n          \"data\": {\\n            \"text/plain\": [\\n              \"   adult                     backdrop_path    genre_ids       id  \\\\\\\\\\\\n\",\\n              \"0  False  /oz4U9eA6ilYf1tyiVuGmkftdLac.jpg  [10749, 18]  1010581   \\\\n\",\\n              \"1  False  /oz4U9eA6ilYf1tyiVuGmkftdLac.jpg  [10749, 18]  1010581   \\\\n\",\\n              \"2  False  /oz4U9eA6ilYf1tyiVuGmkftdLac.jpg  [10749, 18]  1010581   \\\\n\",\\n              \"3  False  /oz4U9eA6ilYf1tyiVuGmkftdLac.jpg  [10749, 18]  1010581   \\\\n\",\\n              \"4  False  /oz4U9eA6ilYf1tyiVuGmkftdLac.jpg  [10749, 18]  1010581   \\\\n\",\\n              \"5  False  /9qYD7pAOEdYBoQblv5VAMMSVAC8.jpg  [10749, 18]  1078600   \\\\n\",\\n              \"6  False  /9qYD7pAOEdYBoQblv5VAMMSVAC8.jpg  [10749, 18]  1078600   \\\\n\",\\n              \"7  False  /9qYD7pAOEdYBoQblv5VAMMSVAC8.jpg  [10749, 18]  1078600   \\\\n\",\\n              \"8  False  /9qYD7pAOEdYBoQblv5VAMMSVAC8.jpg  [10749, 18]  1078600   \\\\n\",\\n              \"9  False  /9qYD7pAOEdYBoQblv5VAMMSVAC8.jpg  [10749, 18]  1078600   \\\\n\",\\n              \"\\\\n\",\\n              \"  original_language           original_title  \\\\\\\\\\\\n\",\\n              \"0                es                Culpa m\\xc3\\xada   \\\\n\",\\n              \"1                es                Culpa m\\xc3\\xada   \\\\n\",\\n              \"2                es                Culpa m\\xc3\\xada   \\\\n\",\\n              \"3                es                Culpa m\\xc3\\xada   \\\\n\",\\n              \"4                es                Culpa m\\xc3\\xada   \\\\n\",\\n              \"5                en  Marked Men: Rule + Shaw   \\\\n\",\\n              \"6                en  Marked Men: Rule + Shaw   \\\\n\",\\n              \"7                en  Marked Men: Rule + Shaw   \\\\n\",\\n              \"8                en  Marked Men: Rule + Shaw   \\\\n\",\\n              \"9                en  Marked Men: Rule + Shaw   \\\\n\",\\n              \"\\\\n\",\\n              \"                                            overview  popularity  \\\\\\\\\\\\n\",\\n              \"0  Noah must leave her city, boyfriend, and frien...     60.4883   \\\\n\",\\n              \"1  Noah must leave her city, boyfriend, and frien...     60.4883   \\\\n\",\\n              \"2  Noah must leave her city, boyfriend, and frien...     60.4883   \\\\n\",\\n              \"3  Noah must leave her city, boyfriend, and frien...     60.4883   \\\\n\",\\n              \"4  Noah must leave her city, boyfriend, and frien...     60.4883   \\\\n\",\\n              \"5  Shaw Landon has loved Rule Archer from the mom...     51.8838   \\\\n\",\\n              \"6  Shaw Landon has loved Rule Archer from the mom...     51.8838   \\\\n\",\\n              \"7  Shaw Landon has loved Rule Archer from the mom...     51.8838   \\\\n\",\\n              \"8  Shaw Landon has loved Rule Archer from the mom...     51.8838   \\\\n\",\\n              \"9  Shaw Landon has loved Rule Archer from the mom...     51.8838   \\\\n\",\\n              \"\\\\n\",\\n              \"                        poster_path release_date                    title  \\\\\\\\\\\\n\",\\n              \"0  /w46Vw536HwNnEzOa7J24YH9DPRS.jpg   2023-06-08                 My Fault   \\\\n\",\\n              \"1  /w46Vw536HwNnEzOa7J24YH9DPRS.jpg   2023-06-08                 My Fault   \\\\n\",\\n              \"2  /w46Vw536HwNnEzOa7J24YH9DPRS.jpg   2023-06-08                 My Fault   \\\\n\",\\n              \"3  /w46Vw536HwNnEzOa7J24YH9DPRS.jpg   2023-06-08                 My Fault   \\\\n\",\\n              \"4  /w46Vw536HwNnEzOa7J24YH9DPRS.jpg   2023-06-08                 My Fault   \\\\n\",\\n              \"5  /gZQU8BtCH2IbMZq6QETiU4HXQSR.jpg   2025-01-22  Marked Men: Rule + Shaw   \\\\n\",\\n              \"6  /gZQU8BtCH2IbMZq6QETiU4HXQSR.jpg   2025-01-22  Marked Men: Rule + Shaw   \\\\n\",\\n              \"7  /gZQU8BtCH2IbMZq6QETiU4HXQSR.jpg   2025-01-22  Marked Men: Rule + Shaw   \\\\n\",\\n              \"8  /gZQU8BtCH2IbMZq6QETiU4HXQSR.jpg   2025-01-22  Marked Men: Rule + Shaw   \\\\n\",\\n              \"9  /gZQU8BtCH2IbMZq6QETiU4HXQSR.jpg   2025-01-22  Marked Men: Rule + Shaw   \\\\n\",\\n              \"\\\\n\",\\n              \"   video  vote_average  vote_count  \\\\n\",\\n              \"0  False         7.811        3684  \\\\n\",\\n              \"1  False         7.811        3684  \\\\n\",\\n              \"2  False         7.811        3684  \\\\n\",\\n              \"3  False         7.811        3684  \\\\n\",\\n              \"4  False         7.811        3684  \\\\n\",\\n              \"5  False         6.276          67  \\\\n\",\\n              \"6  False         6.276          67  \\\\n\",\\n              \"7  False         6.276          67  \\\\n\",\\n              \"8  False         6.276          67  \\\\n\",\\n              \"9  False         6.276          67  \"\\n            ],\\n            \"text/html\": [\\n              \"\\\\n\",\\n              \"  <div id=\\\\\"df-a2b629e1-6efd-478f-87ed-75f77559ec4a\\\\\" class=\\\\\"colab-df-container\\\\\">\\\\n\",\\n              \"    <div>\\\\n\",\\n              \"<style scoped>\\\\n\",\\n              \"    .dataframe tbody tr th:only-of-type {\\\\n\",\\n              \"        vertical-align: middle;\\\\n\",\\n              \"    }\\\\n\",\\n              \"\\\\n\",\\n              \"    .dataframe tbody tr th {\\\\n\",\\n              \"        vertical-align: top;\\\\n\",\\n              \"    }\\\\n\",\\n              \"\\\\n\",\\n              \"    .dataframe thead th {\\\\n\",\\n              \"        text-align: right;\\\\n\",\\n              \"    }\\\\n\",\\n              \"</style>\\\\n\",\\n              \"<table border=\\\\\"1\\\\\" class=\\\\\"dataframe\\\\\">\\\\n\",\\n              \"  <thead>\\\\n\",\\n              \"    <tr style=\\\\\"text-align: right;\\\\\">\\\\n\",\\n              \"      <th></th>\\\\n\",\\n              \"      <th>adult</th>\\\\n\",\\n              \"      <th>backdrop_path</th>\\\\n\",\\n              \"      <th>genre_ids</th>\\\\n\",\\n              \"      <th>id</th>\\\\n\",\\n              \"      <th>original_language</th>\\\\n\",\\n              \"      <th>original_title</th>\\\\n\",\\n              \"      <th>overview</th>\\\\n\",\\n              \"      <th>popularity</th>\\\\n\",\\n              \"      <th>poster_path</th>\\\\n\",\\n              \"      <th>release_date</th>\\\\n\",\\n              \"      <th>title</th>\\\\n\",\\n              \"      <th>video</th>\\\\n\",\\n              \"      <th>vote_average</th>\\\\n\",\\n              \"      <th>vote_count</th>\\\\n\",\\n              \"    </tr>\\\\n\",\\n              \"  </thead>\\\\n\",\\n              \"  <tbody>\\\\n\",\\n              \"    <tr>\\\\n\",\\n              \"      <th>0</th>\\\\n\",\\n              \"      <td>False</td>\\\\n\",\\n              \"      <td>/oz4U9eA6ilYf1tyiVuGmkftdLac.jpg</td>\\\\n\",\\n              \"      <td>[10749, 18]</td>\\\\n\",\\n              \"      <td>1010581</td>\\\\n\",\\n              \"      <td>es</td>\\\\n\",\\n              \"      <td>Culpa m\\xc3\\xada</td>\\\\n\",\\n              \"      <td>Noah must leave her city, boyfriend, and frien...</td>\\\\n\",\\n              \"      <td>60.4883</td>\\\\n\",\\n              \"      <td>/w46Vw536HwNnEzOa7J24YH9DPRS.jpg</td>\\\\n\",\\n              \"      <td>2023-06-08</td>\\\\n\",\\n              \"      <td>My Fault</td>\\\\n\",\\n              \"      <td>False</td>\\\\n\",\\n              \"      <td>7.811</td>\\\\n\",\\n              \"      <td>3684</td>\\\\n\",\\n              \"    </tr>\\\\n\",\\n              \"    <tr>\\\\n\",\\n              \"      <th>1</th>\\\\n\",\\n              \"      <td>False</td>\\\\n\",\\n              \"      <td>/oz4U9eA6ilYf1tyiVuGmkftdLac.jpg</td>\\\\n\",\\n              \"      <td>[10749, 18]</td>\\\\n\",\\n              \"      <td>1010581</td>\\\\n\",\\n              \"      <td>es</td>\\\\n\",\\n              \"      <td>Culpa m\\xc3\\xada</td>\\\\n\",\\n              \"      <td>Noah must leave her city, boyfriend, and frien...</td>\\\\n\",\\n              \"      <td>60.4883</td>\\\\n\",\\n              \"      <td>/w46Vw536HwNnEzOa7J24YH9DPRS.jpg</td>\\\\n\",\\n              \"      <td>2023-06-08</td>\\\\n\",\\n              \"      <td>My Fault</td>\\\\n\",\\n              \"      <td>False</td>\\\\n\",\\n              \"      <td>7.811</td>\\\\n\",\\n              \"      <td>3684</td>\\\\n\",\\n              \"    </tr>\\\\n\",\\n              \"    <tr>\\\\n\",\\n              \"      <th>2</th>\\\\n\",\\n              \"      <td>False</td>\\\\n\",\\n              \"      <td>/oz4U9eA6ilYf1tyiVuGmkftdLac.jpg</td>\\\\n\",\\n              \"      <td>[10749, 18]</td>\\\\n\",\\n              \"      <td>1010581</td>\\\\n\",\\n              \"      <td>es</td>\\\\n\",\\n              \"      <td>Culpa m\\xc3\\xada</td>\\\\n\",\\n              \"      <td>Noah must leave her city, boyfriend, and frien...</td>\\\\n\",\\n              \"      <td>60.4883</td>\\\\n\",\\n              \"      <td>/w46Vw536HwNnEzOa7J24YH9DPRS.jpg</td>\\\\n\",\\n              \"      <td>2023-06-08</td>\\\\n\",\\n              \"      <td>My Fault</td>\\\\n\",\\n              \"      <td>False</td>\\\\n\",\\n              \"      <td>7.811</td>\\\\n\",\\n              \"      <td>3684</td>\\\\n\",\\n              \"    </tr>\\\\n\",\\n              \"    <tr>\\\\n\",\\n              \"      <th>3</th>\\\\n\",\\n              \"      <td>False</td>\\\\n\",\\n              \"      <td>/oz4U9eA6ilYf1tyiVuGmkftdLac.jpg</td>\\\\n\",\\n              \"      <td>[10749, 18]</td>\\\\n\",\\n              \"      <td>1010581</td>\\\\n\",\\n              \"      <td>es</td>\\\\n\",\\n              \"      <td>Culpa m\\xc3\\xada</td>\\\\n\",\\n              \"      <td>Noah must leave her city, boyfriend, and frien...</td>\\\\n\",\\n              \"      <td>60.4883</td>\\\\n\",\\n              \"      <td>/w46Vw536HwNnEzOa7J24YH9DPRS.jpg</td>\\\\n\",\\n              \"      <td>2023-06-08</td>\\\\n\",\\n              \"      <td>My Fault</td>\\\\n\",\\n              \"      <td>False</td>\\\\n\",\\n              \"      <td>7.811</td>\\\\n\",\\n              \"      <td>3684</td>\\\\n\",\\n              \"    </tr>\\\\n\",\\n              \"    <tr>\\\\n\",\\n              \"      <th>4</th>\\\\n\",\\n              \"      <td>False</td>\\\\n\",\\n              \"      <td>/oz4U9eA6ilYf1tyiVuGmkftdLac.jpg</td>\\\\n\",\\n              \"      <td>[10749, 18]</td>\\\\n\",\\n              \"      <td>1010581</td>\\\\n\",\\n              \"      <td>es</td>\\\\n\",\\n              \"      <td>Culpa m\\xc3\\xada</td>\\\\n\",\\n              \"      <td>Noah must leave her city, boyfriend, and frien...</td>\\\\n\",\\n              \"      <td>60.4883</td>\\\\n\",\\n              \"      <td>/w46Vw536HwNnEzOa7J24YH9DPRS.jpg</td>\\\\n\",\\n              \"      <td>2023-06-08</td>\\\\n\",\\n              \"      <td>My Fault</td>\\\\n\",\\n              \"      <td>False</td>\\\\n\",\\n              \"      <td>7.811</td>\\\\n\",\\n              \"      <td>3684</td>\\\\n\",\\n              \"    </tr>\\\\n\",\\n              \"    <tr>\\\\n\",\\n              \"      <th>5</th>\\\\n\",\\n              \"      <td>False</td>\\\\n\",\\n              \"      <td>/9qYD7pAOEdYBoQblv5VAMMSVAC8.jpg</td>\\\\n\",\\n              \"      <td>[10749, 18]</td>\\\\n\",\\n              \"      <td>1078600</td>\\\\n\",\\n              \"      <td>en</td>\\\\n\",\\n              \"      <td>Marked Men: Rule + Shaw</td>\\\\n\",\\n              \"      <td>Shaw Landon has loved Rule Archer from the mom...</td>\\\\n\",\\n              \"      <td>51.8838</td>\\\\n\",\\n              \"      <td>/gZQU8BtCH2IbMZq6QETiU4HXQSR.jpg</td>\\\\n\",\\n              \"      <td>2025-01-22</td>\\\\n\",\\n              \"      <td>Marked Men: Rule + Shaw</td>\\\\n\",\\n              \"      <td>False</td>\\\\n\",\\n              \"      <td>6.276</td>\\\\n\",\\n              \"      <td>67</td>\\\\n\",\\n              \"    </tr>\\\\n\",\\n              \"    <tr>\\\\n\",\\n              \"      <th>6</th>\\\\n\",\\n              \"      <td>False</td>\\\\n\",\\n              \"      <td>/9qYD7pAOEdYBoQblv5VAMMSVAC8.jpg</td>\\\\n\",\\n              \"      <td>[10749, 18]</td>\\\\n\",\\n              \"      <td>1078600</td>\\\\n\",\\n              \"      <td>en</td>\\\\n\",\\n              \"      <td>Marked Men: Rule + Shaw</td>\\\\n\",\\n              \"      <td>Shaw Landon has loved Rule Archer from the mom...</td>\\\\n\",\\n              \"      <td>51.8838</td>\\\\n\",\\n              \"      <td>/gZQU8BtCH2IbMZq6QETiU4HXQSR.jpg</td>\\\\n\",\\n              \"      <td>2025-01-22</td>\\\\n\",\\n              \"      <td>Marked Men: Rule + Shaw</td>\\\\n\",\\n              \"      <td>False</td>\\\\n\",\\n              \"      <td>6.276</td>\\\\n\",\\n              \"      <td>67</td>\\\\n\",\\n              \"    </tr>\\\\n\",\\n              \"    <tr>\\\\n\",\\n              \"      <th>7</th>\\\\n\",\\n              \"      <td>False</td>\\\\n\",\\n              \"      <td>/9qYD7pAOEdYBoQblv5VAMMSVAC8.jpg</td>\\\\n\",\\n              \"      <td>[10749, 18]</td>\\\\n\",\\n              \"      <td>1078600</td>\\\\n\",\\n              \"      <td>en</td>\\\\n\",\\n              \"      <td>Marked Men: Rule + Shaw</td>\\\\n\",\\n              \"      <td>Shaw Landon has loved Rule Archer from the mom...</td>\\\\n\",\\n              \"      <td>51.8838</td>\\\\n\",\\n              \"      <td>/gZQU8BtCH2IbMZq6QETiU4HXQSR.jpg</td>\\\\n\",\\n              \"      <td>2025-01-22</td>\\\\n\",\\n              \"      <td>Marked Men: Rule + Shaw</td>\\\\n\",\\n              \"      <td>False</td>\\\\n\",\\n              \"      <td>6.276</td>\\\\n\",\\n              \"      <td>67</td>\\\\n\",\\n              \"    </tr>\\\\n\",\\n              \"    <tr>\\\\n\",\\n              \"      <th>8</th>\\\\n\",\\n              \"      <td>False</td>\\\\n\",\\n              \"      <td>/9qYD7pAOEdYBoQblv5VAMMSVAC8.jpg</td>\\\\n\",\\n              \"      <td>[10749, 18]</td>\\\\n\",\\n              \"      <td>1078600</td>\\\\n\",\\n              \"      <td>en</td>\\\\n\",\\n              \"      <td>Marked Men: Rule + Shaw</td>\\\\n\",\\n              \"      <td>Shaw Landon has loved Rule Archer from the mom...</td>\\\\n\",\\n              \"      <td>51.8838</td>\\\\n\",\\n              \"      <td>/gZQU8BtCH2IbMZq6QETiU4HXQSR.jpg</td>\\\\n\",\\n              \"      <td>2025-01-22</td>\\\\n\",\\n              \"      <td>Marked Men: Rule + Shaw</td>\\\\n\",\\n              \"      <td>False</td>\\\\n\",\\n              \"      <td>6.276</td>\\\\n\",\\n              \"      <td>67</td>\\\\n\",\\n              \"    </tr>\\\\n\",\\n              \"    <tr>\\\\n\",\\n              \"      <th>9</th>\\\\n\",\\n              \"      <td>False</td>\\\\n\",\\n              \"      <td>/9qYD7pAOEdYBoQblv5VAMMSVAC8.jpg</td>\\\\n\",\\n              \"      <td>[10749, 18]</td>\\\\n\",\\n              \"      <td>1078600</td>\\\\n\",\\n              \"      <td>en</td>\\\\n\",\\n              \"      <td>Marked Men: Rule + Shaw</td>\\\\n\",\\n              \"      <td>Shaw Landon has loved Rule Archer from the mom...</td>\\\\n\",\\n              \"      <td>51.8838</td>\\\\n\",\\n              \"      <td>/gZQU8BtCH2IbMZq6QETiU4HXQSR.jpg</td>\\\\n\",\\n              \"      <td>2025-01-22</td>\\\\n\",\\n              \"      <td>Marked Men: Rule + Shaw</td>\\\\n\",\\n              \"      <td>False</td>\\\\n\",\\n              \"      <td>6.276</td>\\\\n\",\\n              \"      <td>67</td>\\\\n\",\\n              \"    </tr>\\\\n\",\\n              \"  </tbody>\\\\n\",\\n              \"</table>\\\\n\",\\n              \"</div>\\\\n\",\\n              \"    <div class=\\\\\"colab-df-buttons\\\\\">\\\\n\",\\n              \"\\\\n\",\\n              \"  <div class=\\\\\"colab-df-container\\\\\">\\\\n\",\\n              \"    <button class=\\\\\"colab-df-convert\\\\\" onclick=\\\\\"convertToInteractive(\\'df-a2b629e1-6efd-478f-87ed-75f77559ec4a\\')\\\\\"\\\\n\",\\n              \"            title=\\\\\"Convert this dataframe to an interactive table.\\\\\"\\\\n\",\\n              \"            style=\\\\\"display:none;\\\\\">\\\\n\",\\n              \"\\\\n\",\\n              \"  <svg xmlns=\\\\\"http://www.w3.org/2000/svg\\\\\" height=\\\\\"24px\\\\\" viewBox=\\\\\"0 -960 960 960\\\\\">\\\\n\",\\n              \"    <path d=\\\\\"M120-120v-720h720v720H120Zm60-500h600v-160H180v160Zm220 220h160v-160H400v160Zm0 220h160v-160H400v160ZM180-400h160v-160H180v160Zm440 0h160v-160H620v160ZM180-180h160v-160H180v160Zm440 0h160v-160H620v160Z\\\\\"/>\\\\n\",\\n              \"  </svg>\\\\n\",\\n              \"    </button>\\\\n\",\\n              \"\\\\n\",\\n              \"  <style>\\\\n\",\\n              \"    .colab-df-container {\\\\n\",\\n              \"      display:flex;\\\\n\",\\n              \"      gap: 12px;\\\\n\",\\n              \"    }\\\\n\",\\n              \"\\\\n\",\\n              \"    .colab-df-convert {\\\\n\",\\n              \"      background-color: #E8F0FE;\\\\n\",\\n              \"      border: none;\\\\n\",\\n              \"      border-radius: 50%;\\\\n\",\\n              \"      cursor: pointer;\\\\n\",\\n              \"      display: none;\\\\n\",\\n              \"      fill: #1967D2;\\\\n\",\\n              \"      height: 32px;\\\\n\",\\n              \"      padding: 0 0 0 0;\\\\n\",\\n              \"      width: 32px;\\\\n\",\\n              \"    }\\\\n\",\\n              \"\\\\n\",\\n              \"    .colab-df-convert:hover {\\\\n\",\\n              \"      background-color: #E2EBFA;\\\\n\",\\n              \"      box-shadow: 0px 1px 2px rgba(60, 64, 67, 0.3), 0px 1px 3px 1px rgba(60, 64, 67, 0.15);\\\\n\",\\n              \"      fill: #174EA6;\\\\n\",\\n              \"    }\\\\n\",\\n              \"\\\\n\",\\n              \"    .colab-df-buttons div {\\\\n\",\\n              \"      margin-bottom: 4px;\\\\n\",\\n              \"    }\\\\n\",\\n              \"\\\\n\",\\n              \"    [theme=dark] .colab-df-convert {\\\\n\",\\n              \"      background-color: #3B4455;\\\\n\",\\n              \"      fill: #D2E3FC;\\\\n\",\\n              \"    }\\\\n\",\\n              \"\\\\n\",\\n              \"    [theme=dark] .colab-df-convert:hover {\\\\n\",\\n              \"      background-color: #434B5C;\\\\n\",\\n              \"      box-shadow: 0px 1px 3px 1px rgba(0, 0, 0, 0.15);\\\\n\",\\n              \"      filter: drop-shadow(0px 1px 2px rgba(0, 0, 0, 0.3));\\\\n\",\\n              \"      fill: #FFFFFF;\\\\n\",\\n              \"    }\\\\n\",\\n              \"  </style>\\\\n\",\\n              \"\\\\n\",\\n              \"    <script>\\\\n\",\\n              \"      const buttonEl =\\\\n\",\\n              \"        document.querySelector(\\'#df-a2b629e1-6efd-478f-87ed-75f77559ec4a button.colab-df-convert\\');\\\\n\",\\n              \"      buttonEl.style.display =\\\\n\",\\n              \"        google.colab.kernel.accessAllowed ? \\'block\\' : \\'none\\';\\\\n\",\\n              \"\\\\n\",\\n              \"      async function convertToInteractive(key) {\\\\n\",\\n              \"        const element = document.querySelector(\\'#df-a2b629e1-6efd-478f-87ed-75f77559ec4a\\');\\\\n\",\\n              \"        const dataTable =\\\\n\",\\n              \"          await google.colab.kernel.invokeFunction(\\'convertToInteractive\\',\\\\n\",\\n              \"                                                    [key], {});\\\\n\",\\n              \"        if (!dataTable) return;\\\\n\",\\n              \"\\\\n\",\\n              \"        const docLinkHtml = \\'Like what you see? Visit the \\' +\\\\n\",\\n              \"          \\'<a target=\\\\\"_blank\\\\\" href=https://colab.research.google.com/notebooks/data_table.ipynb>data table notebook</a>\\'\\\\n\",\\n              \"          + \\' to learn more about interactive tables.\\';\\\\n\",\\n              \"        element.innerHTML = \\'\\';\\\\n\",\\n              \"        dataTable[\\'output_type\\'] = \\'display_data\\';\\\\n\",\\n              \"        await google.colab.output.renderOutput(dataTable, element);\\\\n\",\\n              \"        const docLink = document.createElement(\\'div\\');\\\\n\",\\n              \"        docLink.innerHTML = docLinkHtml;\\\\n\",\\n              \"        element.appendChild(docLink);\\\\n\",\\n              \"      }\\\\n\",\\n              \"    </script>\\\\n\",\\n              \"  </div>\\\\n\",\\n              \"\\\\n\",\\n              \"\\\\n\",\\n              \"<div id=\\\\\"df-4b3cfbb1-b2f1-47db-b043-efeae7fd2687\\\\\">\\\\n\",\\n              \"  <button class=\\\\\"colab-df-quickchart\\\\\" onclick=\\\\\"quickchart(\\'df-4b3cfbb1-b2f1-47db-b043-efeae7fd2687\\')\\\\\"\\\\n\",\\n              \"            title=\\\\\"Suggest charts\\\\\"\\\\n\",\\n              \"            style=\\\\\"display:none;\\\\\">\\\\n\",\\n              \"\\\\n\",\\n              \"<svg xmlns=\\\\\"http://www.w3.org/2000/svg\\\\\" height=\\\\\"24px\\\\\"viewBox=\\\\\"0 0 24 24\\\\\"\\\\n\",\\n              \"     width=\\\\\"24px\\\\\">\\\\n\",\\n              \"    <g>\\\\n\",\\n              \"        <path d=\\\\\"M19 3H5c-1.1 0-2 .9-2 2v14c0 1.1.9 2 2 2h14c1.1 0 2-.9 2-2V5c0-1.1-.9-2-2-2zM9 17H7v-7h2v7zm4 0h-2V7h2v10zm4 0h-2v-4h2v4z\\\\\"/>\\\\n\",\\n              \"    </g>\\\\n\",\\n              \"</svg>\\\\n\",\\n              \"  </button>\\\\n\",\\n              \"\\\\n\",\\n              \"<style>\\\\n\",\\n              \"  .colab-df-quickchart {\\\\n\",\\n              \"      --bg-color: #E8F0FE;\\\\n\",\\n              \"      --fill-color: #1967D2;\\\\n\",\\n              \"      --hover-bg-color: #E2EBFA;\\\\n\",\\n              \"      --hover-fill-color: #174EA6;\\\\n\",\\n              \"      --disabled-fill-color: #AAA;\\\\n\",\\n              \"      --disabled-bg-color: #DDD;\\\\n\",\\n              \"  }\\\\n\",\\n              \"\\\\n\",\\n              \"  [theme=dark] .colab-df-quickchart {\\\\n\",\\n              \"      --bg-color: #3B4455;\\\\n\",\\n              \"      --fill-color: #D2E3FC;\\\\n\",\\n              \"      --hover-bg-color: #434B5C;\\\\n\",\\n              \"      --hover-fill-color: #FFFFFF;\\\\n\",\\n              \"      --disabled-bg-color: #3B4455;\\\\n\",\\n              \"      --disabled-fill-color: #666;\\\\n\",\\n              \"  }\\\\n\",\\n              \"\\\\n\",\\n              \"  .colab-df-quickchart {\\\\n\",\\n              \"    background-color: var(--bg-color);\\\\n\",\\n              \"    border: none;\\\\n\",\\n              \"    border-radius: 50%;\\\\n\",\\n              \"    cursor: pointer;\\\\n\",\\n              \"    display: none;\\\\n\",\\n              \"    fill: var(--fill-color);\\\\n\",\\n              \"    height: 32px;\\\\n\",\\n              \"    padding: 0;\\\\n\",\\n              \"    width: 32px;\\\\n\",\\n              \"  }\\\\n\",\\n              \"\\\\n\",\\n              \"  .colab-df-quickchart:hover {\\\\n\",\\n              \"    background-color: var(--hover-bg-color);\\\\n\",\\n              \"    box-shadow: 0 1px 2px rgba(60, 64, 67, 0.3), 0 1px 3px 1px rgba(60, 64, 67, 0.15);\\\\n\",\\n              \"    fill: var(--button-hover-fill-color);\\\\n\",\\n              \"  }\\\\n\",\\n              \"\\\\n\",\\n              \"  .colab-df-quickchart-complete:disabled,\\\\n\",\\n              \"  .colab-df-quickchart-complete:disabled:hover {\\\\n\",\\n              \"    background-color: var(--disabled-bg-color);\\\\n\",\\n              \"    fill: var(--disabled-fill-color);\\\\n\",\\n              \"    box-shadow: none;\\\\n\",\\n              \"  }\\\\n\",\\n              \"\\\\n\",\\n              \"  .colab-df-spinner {\\\\n\",\\n              \"    border: 2px solid var(--fill-color);\\\\n\",\\n              \"    border-color: transparent;\\\\n\",\\n              \"    border-bottom-color: var(--fill-color);\\\\n\",\\n              \"    animation:\\\\n\",\\n              \"      spin 1s steps(1) infinite;\\\\n\",\\n              \"  }\\\\n\",\\n              \"\\\\n\",\\n              \"  @keyframes spin {\\\\n\",\\n              \"    0% {\\\\n\",\\n              \"      border-color: transparent;\\\\n\",\\n              \"      border-bottom-color: var(--fill-color);\\\\n\",\\n              \"      border-left-color: var(--fill-color);\\\\n\",\\n              \"    }\\\\n\",\\n              \"    20% {\\\\n\",\\n              \"      border-color: transparent;\\\\n\",\\n              \"      border-left-color: var(--fill-color);\\\\n\",\\n              \"      border-top-color: var(--fill-color);\\\\n\",\\n              \"    }\\\\n\",\\n              \"    30% {\\\\n\",\\n              \"      border-color: transparent;\\\\n\",\\n              \"      border-left-color: var(--fill-color);\\\\n\",\\n              \"      border-top-color: var(--fill-color);\\\\n\",\\n              \"      border-right-color: var(--fill-color);\\\\n\",\\n              \"    }\\\\n\",\\n              \"    40% {\\\\n\",\\n              \"      border-color: transparent;\\\\n\",\\n              \"      border-right-color: var(--fill-color);\\\\n\",\\n              \"      border-top-color: var(--fill-color);\\\\n\",\\n              \"    }\\\\n\",\\n              \"    60% {\\\\n\",\\n              \"      border-color: transparent;\\\\n\",\\n              \"      border-right-color: var(--fill-color);\\\\n\",\\n              \"    }\\\\n\",\\n              \"    80% {\\\\n\",\\n              \"      border-color: transparent;\\\\n\",\\n              \"      border-right-color: var(--fill-color);\\\\n\",\\n              \"      border-bottom-color: var(--fill-color);\\\\n\",\\n              \"    }\\\\n\",\\n              \"    90% {\\\\n\",\\n              \"      border-color: transparent;\\\\n\",\\n              \"      border-bottom-color: var(--fill-color);\\\\n\",\\n              \"    }\\\\n\",\\n              \"  }\\\\n\",\\n              \"</style>\\\\n\",\\n              \"\\\\n\",\\n              \"  <script>\\\\n\",\\n              \"    async function quickchart(key) {\\\\n\",\\n              \"      const quickchartButtonEl =\\\\n\",\\n              \"        document.querySelector(\\'#\\' + key + \\' button\\');\\\\n\",\\n              \"      quickchartButtonEl.disabled = true;  // To prevent multiple clicks.\\\\n\",\\n              \"      quickchartButtonEl.classList.add(\\'colab-df-spinner\\');\\\\n\",\\n              \"      try {\\\\n\",\\n              \"        const charts = await google.colab.kernel.invokeFunction(\\\\n\",\\n              \"            \\'suggestCharts\\', [key], {});\\\\n\",\\n              \"      } catch (error) {\\\\n\",\\n              \"        console.error(\\'Error during call to suggestCharts:\\', error);\\\\n\",\\n              \"      }\\\\n\",\\n              \"      quickchartButtonEl.classList.remove(\\'colab-df-spinner\\');\\\\n\",\\n              \"      quickchartButtonEl.classList.add(\\'colab-df-quickchart-complete\\');\\\\n\",\\n              \"    }\\\\n\",\\n              \"    (() => {\\\\n\",\\n              \"      let quickchartButtonEl =\\\\n\",\\n              \"        document.querySelector(\\'#df-4b3cfbb1-b2f1-47db-b043-efeae7fd2687 button\\');\\\\n\",\\n              \"      quickchartButtonEl.style.display =\\\\n\",\\n              \"        google.colab.kernel.accessAllowed ? \\'block\\' : \\'none\\';\\\\n\",\\n              \"    })();\\\\n\",\\n              \"  </script>\\\\n\",\\n              \"</div>\\\\n\",\\n              \"\\\\n\",\\n              \"  <div id=\\\\\"id_7507bb76-7deb-448b-8609-4cd232f058ba\\\\\">\\\\n\",\\n              \"    <style>\\\\n\",\\n              \"      .colab-df-generate {\\\\n\",\\n              \"        background-color: #E8F0FE;\\\\n\",\\n              \"        border: none;\\\\n\",\\n              \"        border-radius: 50%;\\\\n\",\\n              \"        cursor: pointer;\\\\n\",\\n              \"        display: none;\\\\n\",\\n              \"        fill: #1967D2;\\\\n\",\\n              \"        height: 32px;\\\\n\",\\n              \"        padding: 0 0 0 0;\\\\n\",\\n              \"        width: 32px;\\\\n\",\\n              \"      }\\\\n\",\\n              \"\\\\n\",\\n              \"      .colab-df-generate:hover {\\\\n\",\\n              \"        background-color: #E2EBFA;\\\\n\",\\n              \"        box-shadow: 0px 1px 2px rgba(60, 64, 67, 0.3), 0px 1px 3px 1px rgba(60, 64, 67, 0.15);\\\\n\",\\n              \"        fill: #174EA6;\\\\n\",\\n              \"      }\\\\n\",\\n              \"\\\\n\",\\n              \"      [theme=dark] .colab-df-generate {\\\\n\",\\n              \"        background-color: #3B4455;\\\\n\",\\n              \"        fill: #D2E3FC;\\\\n\",\\n              \"      }\\\\n\",\\n              \"\\\\n\",\\n              \"      [theme=dark] .colab-df-generate:hover {\\\\n\",\\n              \"        background-color: #434B5C;\\\\n\",\\n              \"        box-shadow: 0px 1px 3px 1px rgba(0, 0, 0, 0.15);\\\\n\",\\n              \"        filter: drop-shadow(0px 1px 2px rgba(0, 0, 0, 0.3));\\\\n\",\\n              \"        fill: #FFFFFF;\\\\n\",\\n              \"      }\\\\n\",\\n              \"    </style>\\\\n\",\\n              \"    <button class=\\\\\"colab-df-generate\\\\\" onclick=\\\\\"generateWithVariable(\\'df_raw\\')\\\\\"\\\\n\",\\n              \"            title=\\\\\"Generate code using this dataframe.\\\\\"\\\\n\",\\n              \"            style=\\\\\"display:none;\\\\\">\\\\n\",\\n              \"\\\\n\",\\n              \"  <svg xmlns=\\\\\"http://www.w3.org/2000/svg\\\\\" height=\\\\\"24px\\\\\"viewBox=\\\\\"0 0 24 24\\\\\"\\\\n\",\\n              \"       width=\\\\\"24px\\\\\">\\\\n\",\\n              \"    <path d=\\\\\"M7,19H8.4L18.45,9,17,7.55,7,17.6ZM5,21V16.75L18.45,3.32a2,2,0,0,1,2.83,0l1.4,1.43a1.91,1.91,0,0,1,.58,1.4,1.91,1.91,0,0,1-.58,1.4L9.25,21ZM18.45,9,17,7.55Zm-12,3A5.31,5.31,0,0,0,4.9,8.1,5.31,5.31,0,0,0,1,6.5,5.31,5.31,0,0,0,4.9,4.9,5.31,5.31,0,0,0,6.5,1,5.31,5.31,0,0,0,8.1,4.9,5.31,5.31,0,0,0,12,6.5,5.46,5.46,0,0,0,6.5,12Z\\\\\"/>\\\\n\",\\n              \"  </svg>\\\\n\",\\n              \"    </button>\\\\n\",\\n              \"    <script>\\\\n\",\\n              \"      (() => {\\\\n\",\\n              \"      const buttonEl =\\\\n\",\\n              \"        document.querySelector(\\'#id_7507bb76-7deb-448b-8609-4cd232f058ba button.colab-df-generate\\');\\\\n\",\\n              \"      buttonEl.style.display =\\\\n\",\\n              \"        google.colab.kernel.accessAllowed ? \\'block\\' : \\'none\\';\\\\n\",\\n              \"\\\\n\",\\n              \"      buttonEl.onclick = () => {\\\\n\",\\n              \"        google.colab.notebook.generateWithVariable(\\'df_raw\\');\\\\n\",\\n              \"      }\\\\n\",\\n              \"      })();\\\\n\",\\n              \"    </script>\\\\n\",\\n              \"  </div>\\\\n\",\\n              \"\\\\n\",\\n              \"    </div>\\\\n\",\\n              \"  </div>\\\\n\"\\n            ],\\n            \"application/vnd.google.colaboratory.intrinsic+json\": {\\n              \"type\": \"dataframe\",\\n              \"variable_name\": \"df_raw\",\\n              \"summary\": \"{\\\\n  \\\\\"name\\\\\": \\\\\"df_raw\\\\\",\\\\n  \\\\\"rows\\\\\": 10,\\\\n  \\\\\"fields\\\\\": [\\\\n    {\\\\n      \\\\\"column\\\\\": \\\\\"adult\\\\\",\\\\n      \\\\\"properties\\\\\": {\\\\n        \\\\\"dtype\\\\\": \\\\\"boolean\\\\\",\\\\n        \\\\\"num_unique_values\\\\\": 1,\\\\n        \\\\\"samples\\\\\": [\\\\n          false\\\\n        ],\\\\n        \\\\\"semantic_type\\\\\": \\\\\"\\\\\",\\\\n        \\\\\"description\\\\\": \\\\\"\\\\\"\\\\n      }\\\\n    },\\\\n    {\\\\n      \\\\\"column\\\\\": \\\\\"backdrop_path\\\\\",\\\\n      \\\\\"properties\\\\\": {\\\\n        \\\\\"dtype\\\\\": \\\\\"category\\\\\",\\\\n        \\\\\"num_unique_values\\\\\": 2,\\\\n        \\\\\"samples\\\\\": [\\\\n          \\\\\"/9qYD7pAOEdYBoQblv5VAMMSVAC8.jpg\\\\\"\\\\n        ],\\\\n        \\\\\"semantic_type\\\\\": \\\\\"\\\\\",\\\\n        \\\\\"description\\\\\": \\\\\"\\\\\"\\\\n      }\\\\n    },\\\\n    {\\\\n      \\\\\"column\\\\\": \\\\\"genre_ids\\\\\",\\\\n      \\\\\"properties\\\\\": {\\\\n        \\\\\"dtype\\\\\": \\\\\"category\\\\\",\\\\n        \\\\\"num_unique_values\\\\\": 1,\\\\n        \\\\\"samples\\\\\": [\\\\n          \\\\\"[10749, 18]\\\\\"\\\\n        ],\\\\n        \\\\\"semantic_type\\\\\": \\\\\"\\\\\",\\\\n        \\\\\"description\\\\\": \\\\\"\\\\\"\\\\n      }\\\\n    },\\\\n    {\\\\n      \\\\\"column\\\\\": \\\\\"id\\\\\",\\\\n      \\\\\"properties\\\\\": {\\\\n        \\\\\"dtype\\\\\": \\\\\"Int64\\\\\",\\\\n        \\\\\"num_unique_values\\\\\": 2,\\\\n        \\\\\"samples\\\\\": [\\\\n          1078600\\\\n        ],\\\\n        \\\\\"semantic_type\\\\\": \\\\\"\\\\\",\\\\n        \\\\\"description\\\\\": \\\\\"\\\\\"\\\\n      }\\\\n    },\\\\n    {\\\\n      \\\\\"column\\\\\": \\\\\"original_language\\\\\",\\\\n      \\\\\"properties\\\\\": {\\\\n        \\\\\"dtype\\\\\": \\\\\"category\\\\\",\\\\n        \\\\\"num_unique_values\\\\\": 2,\\\\n        \\\\\"samples\\\\\": [\\\\n          \\\\\"en\\\\\"\\\\n        ],\\\\n        \\\\\"semantic_type\\\\\": \\\\\"\\\\\",\\\\n        \\\\\"description\\\\\": \\\\\"\\\\\"\\\\n      }\\\\n    },\\\\n    {\\\\n      \\\\\"column\\\\\": \\\\\"original_title\\\\\",\\\\n      \\\\\"properties\\\\\": {\\\\n        \\\\\"dtype\\\\\": \\\\\"category\\\\\",\\\\n        \\\\\"num_unique_values\\\\\": 2,\\\\n        \\\\\"samples\\\\\": [\\\\n          \\\\\"Marked Men: Rule + Shaw\\\\\"\\\\n        ],\\\\n        \\\\\"semantic_type\\\\\": \\\\\"\\\\\",\\\\n        \\\\\"description\\\\\": \\\\\"\\\\\"\\\\n      }\\\\n    },\\\\n    {\\\\n      \\\\\"column\\\\\": \\\\\"overview\\\\\",\\\\n      \\\\\"properties\\\\\": {\\\\n        \\\\\"dtype\\\\\": \\\\\"category\\\\\",\\\\n        \\\\\"num_unique_values\\\\\": 2,\\\\n        \\\\\"samples\\\\\": [\\\\n          \\\\\"Shaw Landon has loved Rule Archer from the moment she laid eyes on him. Rule, a fiery-tempered rebel tattoo artist, doesn\\\\\\\\u2019t have time for a good girl pre-med student like Shaw \\\\\\\\u2014 even if she\\\\\\\\u2019s the only one who can see the person he truly is. She lives by other people\\\\\\\\u2019s rules; he makes his own. But a short skirt, too many birthday cocktails, and spilled secrets lead to a night neither can forget. Now, Shaw and Rule must figure out how a girl like her and a guy like him are supposed to be together without destroying their love\\\\\\\\u2026or each other.\\\\\"\\\\n        ],\\\\n        \\\\\"semantic_type\\\\\": \\\\\"\\\\\",\\\\n        \\\\\"description\\\\\": \\\\\"\\\\\"\\\\n      }\\\\n    },\\\\n    {\\\\n      \\\\\"column\\\\\": \\\\\"popularity\\\\\",\\\\n      \\\\\"properties\\\\\": {\\\\n        \\\\\"dtype\\\\\": \\\\\"number\\\\\",\\\\n        \\\\\"std\\\\\": 4.534969687819804,\\\\n        \\\\\"min\\\\\": 51.8838,\\\\n        \\\\\"max\\\\\": 60.4883,\\\\n        \\\\\"num_unique_values\\\\\": 2,\\\\n        \\\\\"samples\\\\\": [\\\\n          51.8838\\\\n        ],\\\\n        \\\\\"semantic_type\\\\\": \\\\\"\\\\\",\\\\n        \\\\\"description\\\\\": \\\\\"\\\\\"\\\\n      }\\\\n    },\\\\n    {\\\\n      \\\\\"column\\\\\": \\\\\"poster_path\\\\\",\\\\n      \\\\\"properties\\\\\": {\\\\n        \\\\\"dtype\\\\\": \\\\\"category\\\\\",\\\\n        \\\\\"num_unique_values\\\\\": 2,\\\\n        \\\\\"samples\\\\\": [\\\\n          \\\\\"/gZQU8BtCH2IbMZq6QETiU4HXQSR.jpg\\\\\"\\\\n        ],\\\\n        \\\\\"semantic_type\\\\\": \\\\\"\\\\\",\\\\n        \\\\\"description\\\\\": \\\\\"\\\\\"\\\\n      }\\\\n    },\\\\n    {\\\\n      \\\\\"column\\\\\": \\\\\"release_date\\\\\",\\\\n      \\\\\"properties\\\\\": {\\\\n        \\\\\"dtype\\\\\": \\\\\"dbdate\\\\\",\\\\n        \\\\\"num_unique_values\\\\\": 2,\\\\n        \\\\\"samples\\\\\": [\\\\n          \\\\\"2025-01-22\\\\\"\\\\n        ],\\\\n        \\\\\"semantic_type\\\\\": \\\\\"\\\\\",\\\\n        \\\\\"description\\\\\": \\\\\"\\\\\"\\\\n      }\\\\n    },\\\\n    {\\\\n      \\\\\"column\\\\\": \\\\\"title\\\\\",\\\\n      \\\\\"properties\\\\\": {\\\\n        \\\\\"dtype\\\\\": \\\\\"category\\\\\",\\\\n        \\\\\"num_unique_values\\\\\": 2,\\\\n        \\\\\"samples\\\\\": [\\\\n          \\\\\"Marked Men: Rule + Shaw\\\\\"\\\\n        ],\\\\n        \\\\\"semantic_type\\\\\": \\\\\"\\\\\",\\\\n        \\\\\"description\\\\\": \\\\\"\\\\\"\\\\n      }\\\\n    },\\\\n    {\\\\n      \\\\\"column\\\\\": \\\\\"video\\\\\",\\\\n      \\\\\"properties\\\\\": {\\\\n        \\\\\"dtype\\\\\": \\\\\"boolean\\\\\",\\\\n        \\\\\"num_unique_values\\\\\": 1,\\\\n        \\\\\"samples\\\\\": [\\\\n          false\\\\n        ],\\\\n        \\\\\"semantic_type\\\\\": \\\\\"\\\\\",\\\\n        \\\\\"description\\\\\": \\\\\"\\\\\"\\\\n      }\\\\n    },\\\\n    {\\\\n      \\\\\"column\\\\\": \\\\\"vote_average\\\\\",\\\\n      \\\\\"properties\\\\\": {\\\\n        \\\\\"dtype\\\\\": \\\\\"number\\\\\",\\\\n        \\\\\"std\\\\\": 0.8090160347264105,\\\\n        \\\\\"min\\\\\": 6.276,\\\\n        \\\\\"max\\\\\": 7.811,\\\\n        \\\\\"num_unique_values\\\\\": 2,\\\\n        \\\\\"samples\\\\\": [\\\\n          6.276\\\\n        ],\\\\n        \\\\\"semantic_type\\\\\": \\\\\"\\\\\",\\\\n        \\\\\"description\\\\\": \\\\\"\\\\\"\\\\n      }\\\\n    },\\\\n    {\\\\n      \\\\\"column\\\\\": \\\\\"vote_count\\\\\",\\\\n      \\\\\"properties\\\\\": {\\\\n        \\\\\"dtype\\\\\": \\\\\"Int64\\\\\",\\\\n        \\\\\"num_unique_values\\\\\": 2,\\\\n        \\\\\"samples\\\\\": [\\\\n          67\\\\n        ],\\\\n        \\\\\"semantic_type\\\\\": \\\\\"\\\\\",\\\\n        \\\\\"description\\\\\": \\\\\"\\\\\"\\\\n      }\\\\n    }\\\\n  ]\\\\n}\"\\n            }\\n          },\\n          \"metadata\": {},\\n          \"execution_count\": 12\\n        }\\n      ]\\n    },\\n    {\\n      \"cell_type\": \"code\",\\n      \"source\": [\\n        \"def orchestrate_pipeline():\\\\n\",\\n        \"    print(\\\\\"D\\xc3\\xa9but de l\\'orchestration ELT\\\\\")\\\\n\",\\n        \"    try:\\\\n\",\\n        \"        create_bucket_if_not_exists(bucket_name)\\\\n\",\\n        \"        create_dataset_if_not_exists(f\\\\\"{bq_project}.{dataset_raw}\\\\\")\\\\n\",\\n        \"        create_dataset_if_not_exists(f\\\\\"{bq_project}.{dataset_clean}\\\\\")\\\\n\",\\n        \"        run_pipeline()\\\\n\",\\n        \"        print(\\\\\"Orchestration termin\\xc3\\xa9e avec succ\\xc3\\xa8s\\\\\")\\\\n\",\\n        \"    except Exception as e:\\\\n\",\\n        \"        print(\\\\\"Orchestration \\xc3\\xa9chou\\xc3\\xa9e :\\\\\", e)\\\\n\",\\n        \"\\\\n\",\\n        \"# Lancer la version orchestr\\xc3\\xa9e\\\\n\",\\n        \"orchestrate_pipeline()\\\\n\"\\n      ],\\n      \"metadata\": {\\n        \"colab\": {\\n          \"base_uri\": \"https://localhost:8080/\"\\n        },\\n        \"id\": \"BCTWJ9dxsJK9\",\\n        \"executionInfo\": {\\n          \"status\": \"ok\",\\n          \"timestamp\": 1747727574579,\\n          \"user_tz\": -120,\\n          \"elapsed\": 8384,\\n          \"user\": {\\n            \"displayName\": \"\",\\n            \"userId\": \"\"\\n          }\\n        },\\n        \"outputId\": \"c26c28a5-e22c-4d6e-9d07-057aed78496b\"\\n      },\\n      \"execution_count\": null,\\n      \"outputs\": [\\n        {\\n          \"output_type\": \"stream\",\\n          \"name\": \"stdout\",\\n          \"text\": [\\n            \"D\\xc3\\xa9but de l\\'orchestration ELT\\\\n\",\\n            \"Bucket \\'tmdb-data-bucket\\' d\\xc3\\xa9j\\xc3\\xa0 existant.\\\\n\",\\n            \"Dataset \\'tmdb-elt-project-460312.tmdb_raw\\' d\\xc3\\xa9j\\xc3\\xa0 existant.\\\\n\",\\n            \"Dataset \\'tmdb-elt-project-460312.tmdb_clean\\' d\\xc3\\xa9j\\xc3\\xa0 existant.\\\\n\",\\n            \"Bucket \\'tmdb-data-bucket\\' d\\xc3\\xa9j\\xc3\\xa0 existant.\\\\n\",\\n            \"Dataset \\'tmdb-elt-project-460312.tmdb_raw\\' d\\xc3\\xa9j\\xc3\\xa0 existant.\\\\n\",\\n            \"Dataset \\'tmdb-elt-project-460312.tmdb_clean\\' d\\xc3\\xa9j\\xc3\\xa0 existant.\\\\n\",\\n            \"1) Extraction depuis TMDB API...\\\\n\",\\n            \"Fichier CSV g\\xc3\\xa9n\\xc3\\xa9r\\xc3\\xa9\\\\n\",\\n            \"2) Upload vers GCS...\\\\n\",\\n            \"OK! Upload GCS termin\\xc3\\xa9\\\\n\",\\n            \"3) Load brut dans BigQuery...\\\\n\",\\n            \"Donn\\xc3\\xa9es charg\\xc3\\xa9es dans BigQuery (brutes)\\\\n\",\\n            \"4) Transformation SQL...\\\\n\",\\n            \" Pipeline ELT termin\\xc3\\xa9 avec succ\\xc3\\xa8s.\\\\n\",\\n            \"Orchestration termin\\xc3\\xa9e avec succ\\xc3\\xa8s\\\\n\"\\n          ]\\n        }\\n      ]\\n    },\\n    {\\n      \"cell_type\": \"code\",\\n      \"source\": [\\n        \"updated_code = \\'\\'\\'\\\\n\",\\n        \"import os\\\\n\",\\n        \"import requests\\\\n\",\\n        \"import pandas as pd\\\\n\",\\n        \"from google.cloud import bigquery, storage\\\\n\",\\n        \"\\\\n\",\\n        \"def orchestrate_pipeline():\\\\n\",\\n        \"    bucket_name = \\\\\"tmdb-data-bucket\\\\\"\\\\n\",\\n        \"    bq_project = \\\\\"tmdb-elt-project-460312\\\\\"\\\\n\",\\n        \"    dataset_raw = \\\\\"tmdb_raw\\\\\"\\\\n\",\\n        \"    dataset_clean = \\\\\"tmdb_clean\\\\\"\\\\n\",\\n        \"    table_raw = f\\\\\"{bq_project}.{dataset_raw}.movies\\\\\"\\\\n\",\\n        \"    table_clean = f\\\\\"{bq_project}.{dataset_clean}.movies\\\\\"\\\\n\",\\n        \"    gcs_path = f\\\\\"gs://{bucket_name}/movies_raw.csv\\\\\"\\\\n\",\\n        \"\\\\n\",\\n        \"    client = bigquery.Client()\\\\n\",\\n        \"    storage_client = storage.Client()\\\\n\",\\n        \"\\\\n\",\\n        \"    bucket = storage_client.bucket(bucket_name)\\\\n\",\\n        \"    if not bucket.exists():\\\\n\",\\n        \"        storage_client.create_bucket(bucket, location=\\\\\"EU\\\\\")\\\\n\",\\n        \"\\\\n\",\\n        \"    for dataset in [dataset_raw, dataset_clean]:\\\\n\",\\n        \"        dataset_id = f\\\\\"{bq_project}.{dataset}\\\\\"\\\\n\",\\n        \"        try:\\\\n\",\\n        \"            client.get_dataset(dataset_id)\\\\n\",\\n        \"        except:\\\\n\",\\n        \"            ds = bigquery.Dataset(dataset_id)\\\\n\",\\n        \"            ds.location = \\\\\"EU\\\\\"\\\\n\",\\n        \"            client.create_dataset(ds)\\\\n\",\\n        \"\\\\n\",\\n        \"    all_movies = []\\\\n\",\\n        \"    for page in range(1, 6):\\\\n\",\\n        \"        url = f\\\\\"https://api.themoviedb.org/3/movie/popular?api_key={os.environ.get(\\'TMDB_API_KEY\\')}&language=en-US&page={page}\\\\\"\\\\n\",\\n        \"        res = requests.get(url)\\\\n\",\\n        \"        if res.status_code == 200:\\\\n\",\\n        \"            all_movies.extend(res.json()[\\\\\"results\\\\\"])\\\\n\",\\n        \"    df = pd.DataFrame(all_movies)\\\\n\",\\n        \"    df.to_csv(\\\\\"/tmp/movies_raw.csv\\\\\", index=False)\\\\n\",\\n        \"\\\\n\",\\n        \"    os.system(f\\\\\"gsutil cp /tmp/movies_raw.csv {gcs_path}\\\\\")\\\\n\",\\n        \"\\\\n\",\\n        \"    job_config = bigquery.LoadJobConfig(\\\\n\",\\n        \"        source_format=bigquery.SourceFormat.CSV,\\\\n\",\\n        \"        skip_leading_rows=1,\\\\n\",\\n        \"        autodetect=True\\\\n\",\\n        \"    )\\\\n\",\\n        \"    client.load_table_from_uri(gcs_path, table_raw, job_config=job_config).result()\\\\n\",\\n        \"\\\\n\",\\n        \"    query = f\\\\\\\\\\\\\"\\\\\\\\\\\\\"\\\\\\\\\\\\\"\\\\n\",\\n        \"    CREATE OR REPLACE TABLE `{table_clean}` AS\\\\n\",\\n        \"    SELECT\\\\n\",\\n        \"      id,\\\\n\",\\n        \"      title,\\\\n\",\\n        \"      release_date,\\\\n\",\\n        \"      vote_average,\\\\n\",\\n        \"      vote_count,\\\\n\",\\n        \"      popularity,\\\\n\",\\n        \"      genre_ids,\\\\n\",\\n        \"      original_language,\\\\n\",\\n        \"      CONCAT(\\'https://image.tmdb.org/t/p/w780\\', backdrop_path) AS backdrop_path,\\\\n\",\\n        \"      CONCAT(\\'https://image.tmdb.org/t/p/w500\\', poster_path) AS poster_path,\\\\n\",\\n        \"      overview\\\\n\",\\n        \"    FROM `{table_raw}`\\\\n\",\\n        \"    WHERE release_date IS NOT NULL\\\\n\",\\n        \"    \\\\\\\\\\\\\"\\\\\\\\\\\\\"\\\\\\\\\\\\\"\\\\n\",\\n        \"    client.query(query).result()\\\\n\",\\n        \"    return \\\\\"Pipeline termin\\xc3\\xa9.\\\\\"\\\\n\",\\n        \"\\\\n\",\\n        \"def main(request):\\\\n\",\\n        \"    return orchestrate_pipeline()\\\\n\",\\n        \"\\'\\'\\'\\\\n\",\\n        \"\\\\n\",\\n        \"with open(\\\\\"/tmp/function_src/main.py\\\\\", \\\\\"w\\\\\") as f:\\\\n\",\\n        \"    f.write(updated_code)\\\\n\"\\n      ],\\n      \"metadata\": {\\n        \"id\": \"LshL4HQmwFoD\"\\n      },\\n      \"execution_count\": null,\\n      \"outputs\": []\\n    },\\n    {\\n      \"cell_type\": \"code\",\\n      \"source\": [\\n        \"# \\xf0\\x9f\\x94\\x81 Recharger les films depuis l\\'API TMDB (5 pages)\\\\n\",\\n        \"all_movies = []\\\\n\",\\n        \"for page in range(1, 6):\\\\n\",\\n        \"    url = f\\\\\"https://api.themoviedb.org/3/movie/popular?api_key={os.environ.get(\\'TMDB_API_KEY\\')}&language=en-US&page={page}\\\\\"\\\\n\",\\n        \"    res = requests.get(url)\\\\n\",\\n        \"    if res.status_code == 200:\\\\n\",\\n        \"        all_movies.extend(res.json()[\\\\\"results\\\\\"])\\\\n\",\\n        \"\\\\n\",\\n        \"df = pd.DataFrame(all_movies)\\\\n\"\\n      ],\\n      \"metadata\": {\\n        \"id\": \"h2yj7I3JuueE\",\\n        \"executionInfo\": {\\n          \"status\": \"ok\",\\n          \"timestamp\": 1747728409585,\\n          \"user_tz\": -120,\\n          \"elapsed\": 170,\\n          \"user\": {\\n            \"displayName\": \"\",\\n            \"userId\": \"\"\\n          }\\n        }\\n      },\\n      \"execution_count\": 12,\\n      \"outputs\": []\\n    },\\n    {\\n      \"cell_type\": \"code\",\\n      \"source\": [\\n        \"import requests\\\\n\",\\n        \"import pandas as pd\\\\n\",\\n        \"from google.cloud import bigquery\\\\n\",\\n        \"import os\\\\n\",\\n        \"\\\\n\",\\n        \"client = bigquery.Client()\\\\n\",\\n        \"\\\\n\",\\n        \"# 1\\xef\\xb8\\x8f\\xe2\\x83\\xa3 Charger la liste officielle des genres depuis l\\'API TMDB\\\\n\",\\n        \"genre_url = f\\\\\"https://api.themoviedb.org/3/genre/movie/list?api_key={os.environ.get(\\'TMDB_API_KEY\\')}&language=en-US\\\\\"\\\\n\",\\n        \"res = requests.get(genre_url)\\\\n\",\\n        \"genres_list = res.json().get(\\\\\"genres\\\\\", [])\\\\n\",\\n        \"\\\\n\",\\n        \"df_genres = pd.DataFrame(genres_list)\\\\n\",\\n        \"df_genres.columns = [\\\\\"genre_id\\\\\", \\\\\"genre_name\\\\\"]\\\\n\",\\n        \"\\\\n\",\\n        \"# \\xf0\\x9f\\x92\\xbe Sauvegarde + upload dans GCS\\\\n\",\\n        \"df_genres.to_csv(\\\\\"/tmp/dim_genres.csv\\\\\", index=False)\\\\n\",\\n        \"os.system(\\\\\"gsutil cp /tmp/dim_genres.csv gs://tmdb-data-bucket/dim_genres.csv\\\\\")\\\\n\",\\n        \"\\\\n\",\\n        \"# \\xf0\\x9f\\x9b\\xa2\\xef\\xb8\\x8f Chargement dans BigQuery\\\\n\",\\n        \"job_config = bigquery.LoadJobConfig(\\\\n\",\\n        \"    source_format=bigquery.SourceFormat.CSV,\\\\n\",\\n        \"    skip_leading_rows=1,\\\\n\",\\n        \"    autodetect=True\\\\n\",\\n        \")\\\\n\",\\n        \"\\\\n\",\\n        \"client.load_table_from_uri(\\\\n\",\\n        \"    \\\\\"gs://tmdb-data-bucket/dim_genres.csv\\\\\",\\\\n\",\\n        \"    \\\\\"tmdb-elt-project-460312.tmdb_clean.dim_genres\\\\\",\\\\n\",\\n        \"    job_config=job_config\\\\n\",\\n        \").result()\\\\n\",\\n        \"print(\\\\\"\\xe2\\x9c\\x85 Table dim_genres charg\\xc3\\xa9e\\\\\")\\\\n\",\\n        \"\\\\n\",\\n        \"# 2\\xef\\xb8\\x8f\\xe2\\x83\\xa3 Cr\\xc3\\xa9er la table de relation film / genre depuis le DataFrame d\\xc3\\xa9j\\xc3\\xa0 en m\\xc3\\xa9moire\\\\n\",\\n        \"movie_genres = df[[\\'id\\', \\'genre_ids\\']].explode(\\'genre_ids\\').dropna()\\\\n\",\\n        \"movie_genres.columns = [\\'movie_id\\', \\'genre_id\\']\\\\n\",\\n        \"movie_genres[\\'genre_id\\'] = movie_genres[\\'genre_id\\'].astype(int)\\\\n\",\\n        \"\\\\n\",\\n        \"# \\xf0\\x9f\\x92\\xbe Sauvegarde + upload dans GCS\\\\n\",\\n        \"movie_genres.to_csv(\\\\\"/tmp/movie_genres.csv\\\\\", index=False)\\\\n\",\\n        \"os.system(\\\\\"gsutil cp /tmp/movie_genres.csv gs://tmdb-data-bucket/movie_genres.csv\\\\\")\\\\n\",\\n        \"\\\\n\",\\n        \"# \\xf0\\x9f\\x9b\\xa2\\xef\\xb8\\x8f Chargement dans BigQuery\\\\n\",\\n        \"client.load_table_from_uri(\\\\n\",\\n        \"    \\\\\"gs://tmdb-data-bucket/movie_genres.csv\\\\\",\\\\n\",\\n        \"    \\\\\"tmdb-elt-project-460312.tmdb_clean.movie_genres\\\\\",\\\\n\",\\n        \"    job_config=job_config\\\\n\",\\n        \").result()\\\\n\",\\n        \"print(\\\\\"\\xe2\\x9c\\x85 Table movie_genres charg\\xc3\\xa9e\\\\\")\\\\n\"\\n      ],\\n      \"metadata\": {\\n        \"colab\": {\\n          \"base_uri\": \"https://localhost:8080/\"\\n        },\\n        \"id\": \"KDEiKkC4trNx\",\\n        \"executionInfo\": {\\n          \"status\": \"ok\",\\n          \"timestamp\": 1747728422285,\\n          \"user_tz\": -120,\\n          \"elapsed\": 10057,\\n          \"user\": {\\n            \"displayName\": \"\",\\n            \"userId\": \"\"\\n          }\\n        },\\n        \"outputId\": \"a249039c-a82c-4a46-8393-cef9a5853eff\"\\n      },\\n      \"execution_count\": 13,\\n      \"outputs\": [\\n        {\\n          \"output_type\": \"stream\",\\n          \"name\": \"stdout\",\\n          \"text\": [\\n            \"\\xe2\\x9c\\x85 Table dim_genres charg\\xc3\\xa9e\\\\n\",\\n            \"\\xe2\\x9c\\x85 Table movie_genres charg\\xc3\\xa9e\\\\n\"\\n          ]\\n        }\\n      ]\\n    },\\n    {\\n      \"cell_type\": \"code\",\\n      \"source\": [\\n        \"!gcloud functions deploy orchestrate_pipeline \\\\\\\\\\\\n\",\\n        \"  --entry-point main \\\\\\\\\\\\n\",\\n        \"  --runtime python310 \\\\\\\\\\\\n\",\\n        \"  --trigger-http \\\\\\\\\\\\n\",\\n        \"  --allow-unauthenticated \\\\\\\\\\\\n\",\\n        \"  --source=/tmp/function_src \\\\\\\\\\\\n\",\\n        \"  --region=europe-west1 \\\\\\\\\\\\n\",\\n        \"  --project=tmdb-elt-project-460312 \\\\\\\\\\\\n\",\\n        \"  --set-env-vars TMDB_API_KEY=3cfa35042af236cd2d3d3ad121a6e865\\\\n\"\\n      ],\\n      \"metadata\": {\\n        \"id\": \"sMC1zSK2wIUj\"\\n      },\\n      \"execution_count\": null,\\n      \"outputs\": []\\n    }\\n  ]\\n}'}"
            ]
          },
          "execution_count": 42,
          "metadata": {},
          "output_type": "execute_result"
        }
      ],
      "source": [
        "from google.colab import files\n",
        "files.upload()"
      ]
    },
    {
      "cell_type": "code",
      "execution_count": 43,
      "metadata": {
        "executionInfo": {
          "elapsed": 15,
          "status": "ok",
          "timestamp": 1747732840164,
          "user": {
            "displayName": "",
            "userId": ""
          },
          "user_tz": -120
        },
        "id": "E-zIhOpf8sOn"
      },
      "outputs": [],
      "source": [
        "!cp tmdb_pipeline.ipynb tmdb-elt-pipeline/notebook/\n"
      ]
    },
    {
      "cell_type": "code",
      "execution_count": 44,
      "metadata": {
        "executionInfo": {
          "elapsed": 9,
          "status": "ok",
          "timestamp": 1747732840165,
          "user": {
            "displayName": "",
            "userId": ""
          },
          "user_tz": -120
        },
        "id": "klLaFd6b8vQg"
      },
      "outputs": [],
      "source": [
        "import os\n",
        "\n",
        "main_py_path = \"tmdb-elt-pipeline/function_src/main.py\"\n",
        "reqs_path = \"tmdb-elt-pipeline/requirements.txt\"\n",
        "\n",
        "os.makedirs(os.path.dirname(main_py_path), exist_ok=True)\n",
        "\n",
        "main_code = '''import os\n",
        "import requests\n",
        "import pandas as pd\n",
        "from google.cloud import bigquery, storage\n",
        "\n",
        "def main(request):\n",
        "    bucket_name = \"tmdb-data-bucket\"\n",
        "    bq_project = \"tmdb-elt-project-460312\"\n",
        "    dataset_raw = \"tmdb_raw\"\n",
        "    dataset_clean = \"tmdb_clean\"\n",
        "    table_raw = f\"{bq_project}.{dataset_raw}.movies\"\n",
        "    table_facts = f\"{bq_project}.{dataset_clean}.movies\"\n",
        "    table_genres = f\"{bq_project}.{dataset_clean}.dim_genres\"\n",
        "    table_relation = f\"{bq_project}.{dataset_clean}.movie_genres\"\n",
        "    gcs_movies = f\"gs://{bucket_name}/movies_raw.csv\"\n",
        "    gcs_genres = f\"gs://{bucket_name}/dim_genres.csv\"\n",
        "    gcs_movie_genres = f\"gs://{bucket_name}/movie_genres.csv\"\n",
        "\n",
        "    client = bigquery.Client()\n",
        "    storage_client = storage.Client()\n",
        "\n",
        "    bucket = storage_client.bucket(bucket_name)\n",
        "    if not bucket.exists():\n",
        "        storage_client.create_bucket(bucket, location=\"EU\")\n",
        "\n",
        "    for dataset in [dataset_raw, dataset_clean]:\n",
        "        dataset_id = f\"{bq_project}.{dataset}\"\n",
        "        try:\n",
        "            client.get_dataset(dataset_id)\n",
        "        except:\n",
        "            ds = bigquery.Dataset(dataset_id)\n",
        "            ds.location = \"EU\"\n",
        "            client.create_dataset(ds)\n",
        "\n",
        "    all_movies = []\n",
        "    for page in range(1, 6):\n",
        "        url = f\"https://api.themoviedb.org/3/discover/movie?api_key={os.environ.get('TMDB_API_KEY')}&language=en-US&page={page}\"\n",
        "        res = requests.get(url)\n",
        "        if res.status_code == 200:\n",
        "            all_movies.extend(res.json()[\"results\"])\n",
        "    df = pd.DataFrame(all_movies)\n",
        "    df.to_csv(\"/tmp/movies_raw.csv\", index=False)\n",
        "    os.system(f\"gsutil cp /tmp/movies_raw.csv {gcs_movies}\")\n",
        "\n",
        "    job_config = bigquery.LoadJobConfig(\n",
        "        source_format=bigquery.SourceFormat.CSV,\n",
        "        skip_leading_rows=1,\n",
        "        autodetect=True\n",
        "    )\n",
        "    client.query(f\"DELETE FROM `{table_raw}` WHERE TRUE\").result()\n",
        "    client.load_table_from_uri(gcs_movies, table_raw, job_config=job_config).result()\n",
        "\n",
        "    query_facts = f\\\"\\\"\\\"\n",
        "    CREATE OR REPLACE TABLE `{table_facts}` AS\n",
        "    SELECT\n",
        "      id,\n",
        "      title,\n",
        "      release_date,\n",
        "      vote_average,\n",
        "      vote_count,\n",
        "      popularity,\n",
        "      genre_ids,\n",
        "      original_language,\n",
        "      CONCAT('https://image.tmdb.org/t/p/w780', backdrop_path) AS backdrop_path,\n",
        "      CONCAT('https://image.tmdb.org/t/p/w500', poster_path) AS poster_path,\n",
        "      overview\n",
        "    FROM (\n",
        "      SELECT *,\n",
        "             ROW_NUMBER() OVER (PARTITION BY id ORDER BY popularity DESC) AS rn\n",
        "      FROM `{table_raw}`\n",
        "    )\n",
        "    WHERE rn = 1 AND release_date IS NOT NULL\n",
        "    \\\"\\\"\\\"\n",
        "    client.query(query_facts).result()\n",
        "\n",
        "    genre_url = f\"https://api.themoviedb.org/3/genre/movie/list?api_key={os.environ.get('TMDB_API_KEY')}&language=en-US\"\n",
        "    res = requests.get(genre_url)\n",
        "    df_genres = pd.DataFrame(res.json()[\"genres\"])\n",
        "    df_genres.columns = [\"genre_id\", \"genre_name\"]\n",
        "    df_genres.to_csv(\"/tmp/dim_genres.csv\", index=False)\n",
        "    os.system(f\"gsutil cp /tmp/dim_genres.csv {gcs_genres}\")\n",
        "    client.load_table_from_uri(gcs_genres, table_genres, job_config=job_config).result()\n",
        "\n",
        "    movie_genres = df[['id', 'genre_ids']].explode('genre_ids').dropna()\n",
        "    movie_genres.columns = ['movie_id', 'genre_id']\n",
        "    movie_genres['genre_id'] = movie_genres['genre_id'].astype(int)\n",
        "    movie_genres.to_csv(\"/tmp/movie_genres.csv\", index=False)\n",
        "    os.system(f\"gsutil cp /tmp/movie_genres.csv {gcs_movie_genres}\")\n",
        "    client.load_table_from_uri(gcs_movie_genres, table_relation, job_config=job_config).result()\n",
        "\n",
        "    return \"✅ Pipeline exécuté avec succès\"'''\n",
        "with open(main_py_path, \"w\") as f:\n",
        "    f.write(main_code)\n",
        "\n",
        "with open(reqs_path, \"w\") as f:\n",
        "    f.write(\"pandas\\nrequests\\ngoogle-cloud-bigquery\\ngoogle-cloud-storage\\n\")\n"
      ]
    },
    {
      "cell_type": "code",
      "execution_count": 45,
      "metadata": {
        "executionInfo": {
          "elapsed": 392,
          "status": "ok",
          "timestamp": 1747732840549,
          "user": {
            "displayName": "",
            "userId": ""
          },
          "user_tz": -120
        },
        "id": "P6tbYqD99Wk8"
      },
      "outputs": [],
      "source": [
        "!echo \".env\\n__pycache__/\\n*.pyc\\n.DS_Store\\n\" > tmdb-elt-pipeline/.gitignore\n",
        "!touch tmdb-elt-pipeline/README.md"
      ]
    },
    {
      "cell_type": "code",
      "execution_count": 46,
      "metadata": {
        "colab": {
          "base_uri": "https://localhost:8080/"
        },
        "executionInfo": {
          "elapsed": 10,
          "status": "ok",
          "timestamp": 1747732840550,
          "user": {
            "displayName": "",
            "userId": ""
          },
          "user_tz": -120
        },
        "id": "obHl5HJe9cHL",
        "outputId": "720edd88-1f9a-4ca3-b54e-eceaf827dc72"
      },
      "outputs": [
        {
          "name": "stdout",
          "output_type": "stream",
          "text": [
            "/content/tmdb-elt-pipeline\n"
          ]
        }
      ],
      "source": [
        "%cd /content/tmdb-elt-pipeline"
      ]
    },
    {
      "cell_type": "code",
      "execution_count": null,
      "metadata": {
        "executionInfo": {
          "elapsed": 6,
          "status": "ok",
          "timestamp": 1747732840550,
          "user": {
            "displayName": "",
            "userId": ""
          },
          "user_tz": -120
        },
        "id": "t_ERoXI3-ach"
      },
      "outputs": [],
      "source": [
        "token = \"dz213\"\n",
        "!git remote set-url origin https://{token}@github.com/YanisZedira/ETL_MOVIES_PIPELINE.git"
      ]
    },
    {
      "cell_type": "code",
      "execution_count": 48,
      "metadata": {
        "colab": {
          "base_uri": "https://localhost:8080/"
        },
        "executionInfo": {
          "elapsed": 1225,
          "status": "ok",
          "timestamp": 1747732841770,
          "user": {
            "displayName": "",
            "userId": ""
          },
          "user_tz": -120
        },
        "id": "BChwp2p9-ezZ",
        "outputId": "3ed889a3-b92b-4129-b58a-c785b8314254"
      },
      "outputs": [
        {
          "name": "stdout",
          "output_type": "stream",
          "text": [
            "From https://github.com/YanisZedira/ETL_MOVIES_PIPELINE\n",
            " * branch            main       -> FETCH_HEAD\n",
            "Already up to date.\n",
            "Branch 'main' set up to track remote branch 'main' from 'origin'.\n",
            "Everything up-to-date\n"
          ]
        }
      ],
      "source": [
        "!git pull origin main --allow-unrelated-histories\n",
        "!git push -u origin main"
      ]
    },
    {
      "cell_type": "code",
      "execution_count": 49,
      "metadata": {
        "colab": {
          "base_uri": "https://localhost:8080/"
        },
        "executionInfo": {
          "elapsed": 414,
          "status": "ok",
          "timestamp": 1747732842178,
          "user": {
            "displayName": "",
            "userId": ""
          },
          "user_tz": -120
        },
        "id": "HoBs2NRJ-tWr",
        "outputId": "dffa6cea-d277-4d7e-a4e3-5eefbd91af95"
      },
      "outputs": [
        {
          "name": "stdout",
          "output_type": "stream",
          "text": [
            "Branch 'main' set up to track remote branch 'main' from 'origin'.\n",
            "Everything up-to-date\n"
          ]
        }
      ],
      "source": [
        "!git push -u origin main --force"
      ]
    }
  ],
  "metadata": {
    "colab": {
      "cell_execution_strategy": "setup",
      "name": "test",
      "provenance": []
    },
    "kernelspec": {
      "display_name": "Python 3",
      "name": "python3"
    },
    "language_info": {
      "name": "python"
    }
  },
  "nbformat": 4,
  "nbformat_minor": 0
}
